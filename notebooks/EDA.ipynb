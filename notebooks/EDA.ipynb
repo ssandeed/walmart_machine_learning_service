{
 "cells": [
  {
   "cell_type": "code",
   "execution_count": null,
   "id": "85ae9abf-034c-41cd-94a3-17d28b6628ec",
   "metadata": {},
   "outputs": [],
   "source": []
  },
  {
   "cell_type": "code",
   "execution_count": 1,
   "id": "2d8a2c3f-3fb0-40b0-b056-9ae5bb3a208b",
   "metadata": {
    "tags": []
   },
   "outputs": [],
   "source": []
  },
  {
   "cell_type": "code",
   "execution_count": 1,
   "id": "dfaaf0da",
   "metadata": {
    "tags": []
   },
   "outputs": [],
   "source": [
    "import pandas as pd\n",
    "import numpy as np\n",
    "import seaborn as sns\n",
    "import matplotlib.pyplot as plt"
   ]
  },
  {
   "cell_type": "code",
   "execution_count": 2,
   "id": "a8f0243e",
   "metadata": {
    "tags": []
   },
   "outputs": [],
   "source": [
    "calendar_events = pd.read_csv('../../data/raw/calendar_events.csv',low_memory=False)"
   ]
  },
  {
   "cell_type": "code",
   "execution_count": 3,
   "id": "da70ab95",
   "metadata": {
    "tags": []
   },
   "outputs": [],
   "source": [
    "calendar = pd.read_csv('../../data/raw/calendar.csv',low_memory=False)"
   ]
  },
  {
   "cell_type": "code",
   "execution_count": 4,
   "id": "b6430fbe",
   "metadata": {
    "tags": []
   },
   "outputs": [],
   "source": [
    "items_weekly_sell_prices = pd.read_csv('../../data/raw/items_weekly_sell_prices.csv',low_memory=False)"
   ]
  },
  {
   "cell_type": "code",
   "execution_count": 5,
   "id": "2dc9d368",
   "metadata": {
    "tags": []
   },
   "outputs": [],
   "source": [
    "sales_train = pd.read_csv('../../data/raw/sales_train.csv',low_memory=False)"
   ]
  },
  {
   "cell_type": "code",
   "execution_count": 6,
   "id": "0f05a6ab",
   "metadata": {
    "tags": []
   },
   "outputs": [
    {
     "data": {
      "text/html": [
       "<div>\n",
       "<style scoped>\n",
       "    .dataframe tbody tr th:only-of-type {\n",
       "        vertical-align: middle;\n",
       "    }\n",
       "\n",
       "    .dataframe tbody tr th {\n",
       "        vertical-align: top;\n",
       "    }\n",
       "\n",
       "    .dataframe thead th {\n",
       "        text-align: right;\n",
       "    }\n",
       "</style>\n",
       "<table border=\"1\" class=\"dataframe\">\n",
       "  <thead>\n",
       "    <tr style=\"text-align: right;\">\n",
       "      <th></th>\n",
       "      <th>date</th>\n",
       "      <th>event_name</th>\n",
       "      <th>event_type</th>\n",
       "    </tr>\n",
       "  </thead>\n",
       "  <tbody>\n",
       "    <tr>\n",
       "      <th>0</th>\n",
       "      <td>2011-02-06</td>\n",
       "      <td>SuperBowl</td>\n",
       "      <td>Sporting</td>\n",
       "    </tr>\n",
       "    <tr>\n",
       "      <th>1</th>\n",
       "      <td>2011-02-14</td>\n",
       "      <td>ValentinesDay</td>\n",
       "      <td>Cultural</td>\n",
       "    </tr>\n",
       "    <tr>\n",
       "      <th>2</th>\n",
       "      <td>2011-02-21</td>\n",
       "      <td>PresidentsDay</td>\n",
       "      <td>National</td>\n",
       "    </tr>\n",
       "    <tr>\n",
       "      <th>3</th>\n",
       "      <td>2011-03-09</td>\n",
       "      <td>LentStart</td>\n",
       "      <td>Religious</td>\n",
       "    </tr>\n",
       "    <tr>\n",
       "      <th>4</th>\n",
       "      <td>2011-03-16</td>\n",
       "      <td>LentWeek2</td>\n",
       "      <td>Religious</td>\n",
       "    </tr>\n",
       "    <tr>\n",
       "      <th>...</th>\n",
       "      <td>...</td>\n",
       "      <td>...</td>\n",
       "      <td>...</td>\n",
       "    </tr>\n",
       "    <tr>\n",
       "      <th>162</th>\n",
       "      <td>2016-05-30</td>\n",
       "      <td>MemorialDay</td>\n",
       "      <td>National</td>\n",
       "    </tr>\n",
       "    <tr>\n",
       "      <th>163</th>\n",
       "      <td>2016-06-02</td>\n",
       "      <td>NBAFinalsStart</td>\n",
       "      <td>Sporting</td>\n",
       "    </tr>\n",
       "    <tr>\n",
       "      <th>164</th>\n",
       "      <td>2016-06-07</td>\n",
       "      <td>Ramadan starts</td>\n",
       "      <td>Religious</td>\n",
       "    </tr>\n",
       "    <tr>\n",
       "      <th>165</th>\n",
       "      <td>2016-06-19</td>\n",
       "      <td>Father's day</td>\n",
       "      <td>Cultural</td>\n",
       "    </tr>\n",
       "    <tr>\n",
       "      <th>166</th>\n",
       "      <td>2016-06-19</td>\n",
       "      <td>NBAFinalsEnd</td>\n",
       "      <td>Sporting</td>\n",
       "    </tr>\n",
       "  </tbody>\n",
       "</table>\n",
       "<p>167 rows × 3 columns</p>\n",
       "</div>"
      ],
      "text/plain": [
       "           date      event_name event_type\n",
       "0    2011-02-06       SuperBowl   Sporting\n",
       "1    2011-02-14   ValentinesDay   Cultural\n",
       "2    2011-02-21   PresidentsDay   National\n",
       "3    2011-03-09       LentStart  Religious\n",
       "4    2011-03-16       LentWeek2  Religious\n",
       "..          ...             ...        ...\n",
       "162  2016-05-30     MemorialDay   National\n",
       "163  2016-06-02  NBAFinalsStart   Sporting\n",
       "164  2016-06-07  Ramadan starts  Religious\n",
       "165  2016-06-19    Father's day   Cultural\n",
       "166  2016-06-19    NBAFinalsEnd   Sporting\n",
       "\n",
       "[167 rows x 3 columns]"
      ]
     },
     "execution_count": 6,
     "metadata": {},
     "output_type": "execute_result"
    }
   ],
   "source": [
    "calendar_events"
   ]
  },
  {
   "cell_type": "code",
   "execution_count": 7,
   "id": "e62d7220",
   "metadata": {
    "tags": []
   },
   "outputs": [
    {
     "data": {
      "text/html": [
       "<div>\n",
       "<style scoped>\n",
       "    .dataframe tbody tr th:only-of-type {\n",
       "        vertical-align: middle;\n",
       "    }\n",
       "\n",
       "    .dataframe tbody tr th {\n",
       "        vertical-align: top;\n",
       "    }\n",
       "\n",
       "    .dataframe thead th {\n",
       "        text-align: right;\n",
       "    }\n",
       "</style>\n",
       "<table border=\"1\" class=\"dataframe\">\n",
       "  <thead>\n",
       "    <tr style=\"text-align: right;\">\n",
       "      <th></th>\n",
       "      <th>store_id</th>\n",
       "      <th>item_id</th>\n",
       "      <th>wm_yr_wk</th>\n",
       "      <th>sell_price</th>\n",
       "    </tr>\n",
       "  </thead>\n",
       "  <tbody>\n",
       "    <tr>\n",
       "      <th>0</th>\n",
       "      <td>CA_1</td>\n",
       "      <td>HOBBIES_1_001</td>\n",
       "      <td>11325</td>\n",
       "      <td>9.58</td>\n",
       "    </tr>\n",
       "    <tr>\n",
       "      <th>1</th>\n",
       "      <td>CA_1</td>\n",
       "      <td>HOBBIES_1_001</td>\n",
       "      <td>11326</td>\n",
       "      <td>9.58</td>\n",
       "    </tr>\n",
       "    <tr>\n",
       "      <th>2</th>\n",
       "      <td>CA_1</td>\n",
       "      <td>HOBBIES_1_001</td>\n",
       "      <td>11327</td>\n",
       "      <td>8.26</td>\n",
       "    </tr>\n",
       "    <tr>\n",
       "      <th>3</th>\n",
       "      <td>CA_1</td>\n",
       "      <td>HOBBIES_1_001</td>\n",
       "      <td>11328</td>\n",
       "      <td>8.26</td>\n",
       "    </tr>\n",
       "    <tr>\n",
       "      <th>4</th>\n",
       "      <td>CA_1</td>\n",
       "      <td>HOBBIES_1_001</td>\n",
       "      <td>11329</td>\n",
       "      <td>8.26</td>\n",
       "    </tr>\n",
       "    <tr>\n",
       "      <th>...</th>\n",
       "      <td>...</td>\n",
       "      <td>...</td>\n",
       "      <td>...</td>\n",
       "      <td>...</td>\n",
       "    </tr>\n",
       "    <tr>\n",
       "      <th>6841116</th>\n",
       "      <td>WI_3</td>\n",
       "      <td>FOODS_3_827</td>\n",
       "      <td>11617</td>\n",
       "      <td>1.00</td>\n",
       "    </tr>\n",
       "    <tr>\n",
       "      <th>6841117</th>\n",
       "      <td>WI_3</td>\n",
       "      <td>FOODS_3_827</td>\n",
       "      <td>11618</td>\n",
       "      <td>1.00</td>\n",
       "    </tr>\n",
       "    <tr>\n",
       "      <th>6841118</th>\n",
       "      <td>WI_3</td>\n",
       "      <td>FOODS_3_827</td>\n",
       "      <td>11619</td>\n",
       "      <td>1.00</td>\n",
       "    </tr>\n",
       "    <tr>\n",
       "      <th>6841119</th>\n",
       "      <td>WI_3</td>\n",
       "      <td>FOODS_3_827</td>\n",
       "      <td>11620</td>\n",
       "      <td>1.00</td>\n",
       "    </tr>\n",
       "    <tr>\n",
       "      <th>6841120</th>\n",
       "      <td>WI_3</td>\n",
       "      <td>FOODS_3_827</td>\n",
       "      <td>11621</td>\n",
       "      <td>1.00</td>\n",
       "    </tr>\n",
       "  </tbody>\n",
       "</table>\n",
       "<p>6841121 rows × 4 columns</p>\n",
       "</div>"
      ],
      "text/plain": [
       "        store_id        item_id  wm_yr_wk  sell_price\n",
       "0           CA_1  HOBBIES_1_001     11325        9.58\n",
       "1           CA_1  HOBBIES_1_001     11326        9.58\n",
       "2           CA_1  HOBBIES_1_001     11327        8.26\n",
       "3           CA_1  HOBBIES_1_001     11328        8.26\n",
       "4           CA_1  HOBBIES_1_001     11329        8.26\n",
       "...          ...            ...       ...         ...\n",
       "6841116     WI_3    FOODS_3_827     11617        1.00\n",
       "6841117     WI_3    FOODS_3_827     11618        1.00\n",
       "6841118     WI_3    FOODS_3_827     11619        1.00\n",
       "6841119     WI_3    FOODS_3_827     11620        1.00\n",
       "6841120     WI_3    FOODS_3_827     11621        1.00\n",
       "\n",
       "[6841121 rows x 4 columns]"
      ]
     },
     "execution_count": 7,
     "metadata": {},
     "output_type": "execute_result"
    }
   ],
   "source": [
    "items_weekly_sell_prices"
   ]
  },
  {
   "cell_type": "code",
   "execution_count": 8,
   "id": "e8396fae",
   "metadata": {
    "tags": []
   },
   "outputs": [
    {
     "data": {
      "text/html": [
       "<div>\n",
       "<style scoped>\n",
       "    .dataframe tbody tr th:only-of-type {\n",
       "        vertical-align: middle;\n",
       "    }\n",
       "\n",
       "    .dataframe tbody tr th {\n",
       "        vertical-align: top;\n",
       "    }\n",
       "\n",
       "    .dataframe thead th {\n",
       "        text-align: right;\n",
       "    }\n",
       "</style>\n",
       "<table border=\"1\" class=\"dataframe\">\n",
       "  <thead>\n",
       "    <tr style=\"text-align: right;\">\n",
       "      <th></th>\n",
       "      <th>id</th>\n",
       "      <th>item_id</th>\n",
       "      <th>dept_id</th>\n",
       "      <th>cat_id</th>\n",
       "      <th>store_id</th>\n",
       "      <th>state_id</th>\n",
       "      <th>d_1</th>\n",
       "      <th>d_2</th>\n",
       "      <th>d_3</th>\n",
       "      <th>d_4</th>\n",
       "      <th>...</th>\n",
       "      <th>d_1532</th>\n",
       "      <th>d_1533</th>\n",
       "      <th>d_1534</th>\n",
       "      <th>d_1535</th>\n",
       "      <th>d_1536</th>\n",
       "      <th>d_1537</th>\n",
       "      <th>d_1538</th>\n",
       "      <th>d_1539</th>\n",
       "      <th>d_1540</th>\n",
       "      <th>d_1541</th>\n",
       "    </tr>\n",
       "  </thead>\n",
       "  <tbody>\n",
       "    <tr>\n",
       "      <th>0</th>\n",
       "      <td>HOBBIES_1_001_CA_1_evaluation</td>\n",
       "      <td>HOBBIES_1_001</td>\n",
       "      <td>HOBBIES_1</td>\n",
       "      <td>HOBBIES</td>\n",
       "      <td>CA_1</td>\n",
       "      <td>CA</td>\n",
       "      <td>0</td>\n",
       "      <td>0</td>\n",
       "      <td>0</td>\n",
       "      <td>0</td>\n",
       "      <td>...</td>\n",
       "      <td>1</td>\n",
       "      <td>1</td>\n",
       "      <td>1</td>\n",
       "      <td>0</td>\n",
       "      <td>1</td>\n",
       "      <td>0</td>\n",
       "      <td>1</td>\n",
       "      <td>0</td>\n",
       "      <td>0</td>\n",
       "      <td>1</td>\n",
       "    </tr>\n",
       "    <tr>\n",
       "      <th>1</th>\n",
       "      <td>HOBBIES_1_002_CA_1_evaluation</td>\n",
       "      <td>HOBBIES_1_002</td>\n",
       "      <td>HOBBIES_1</td>\n",
       "      <td>HOBBIES</td>\n",
       "      <td>CA_1</td>\n",
       "      <td>CA</td>\n",
       "      <td>0</td>\n",
       "      <td>0</td>\n",
       "      <td>0</td>\n",
       "      <td>0</td>\n",
       "      <td>...</td>\n",
       "      <td>0</td>\n",
       "      <td>0</td>\n",
       "      <td>0</td>\n",
       "      <td>0</td>\n",
       "      <td>0</td>\n",
       "      <td>0</td>\n",
       "      <td>0</td>\n",
       "      <td>0</td>\n",
       "      <td>1</td>\n",
       "      <td>0</td>\n",
       "    </tr>\n",
       "    <tr>\n",
       "      <th>2</th>\n",
       "      <td>HOBBIES_1_003_CA_1_evaluation</td>\n",
       "      <td>HOBBIES_1_003</td>\n",
       "      <td>HOBBIES_1</td>\n",
       "      <td>HOBBIES</td>\n",
       "      <td>CA_1</td>\n",
       "      <td>CA</td>\n",
       "      <td>0</td>\n",
       "      <td>0</td>\n",
       "      <td>0</td>\n",
       "      <td>0</td>\n",
       "      <td>...</td>\n",
       "      <td>0</td>\n",
       "      <td>0</td>\n",
       "      <td>1</td>\n",
       "      <td>0</td>\n",
       "      <td>0</td>\n",
       "      <td>0</td>\n",
       "      <td>0</td>\n",
       "      <td>0</td>\n",
       "      <td>0</td>\n",
       "      <td>0</td>\n",
       "    </tr>\n",
       "    <tr>\n",
       "      <th>3</th>\n",
       "      <td>HOBBIES_1_004_CA_1_evaluation</td>\n",
       "      <td>HOBBIES_1_004</td>\n",
       "      <td>HOBBIES_1</td>\n",
       "      <td>HOBBIES</td>\n",
       "      <td>CA_1</td>\n",
       "      <td>CA</td>\n",
       "      <td>0</td>\n",
       "      <td>0</td>\n",
       "      <td>0</td>\n",
       "      <td>0</td>\n",
       "      <td>...</td>\n",
       "      <td>8</td>\n",
       "      <td>2</td>\n",
       "      <td>0</td>\n",
       "      <td>8</td>\n",
       "      <td>2</td>\n",
       "      <td>3</td>\n",
       "      <td>1</td>\n",
       "      <td>1</td>\n",
       "      <td>3</td>\n",
       "      <td>8</td>\n",
       "    </tr>\n",
       "    <tr>\n",
       "      <th>4</th>\n",
       "      <td>HOBBIES_1_005_CA_1_evaluation</td>\n",
       "      <td>HOBBIES_1_005</td>\n",
       "      <td>HOBBIES_1</td>\n",
       "      <td>HOBBIES</td>\n",
       "      <td>CA_1</td>\n",
       "      <td>CA</td>\n",
       "      <td>0</td>\n",
       "      <td>0</td>\n",
       "      <td>0</td>\n",
       "      <td>0</td>\n",
       "      <td>...</td>\n",
       "      <td>2</td>\n",
       "      <td>0</td>\n",
       "      <td>1</td>\n",
       "      <td>3</td>\n",
       "      <td>2</td>\n",
       "      <td>1</td>\n",
       "      <td>1</td>\n",
       "      <td>2</td>\n",
       "      <td>2</td>\n",
       "      <td>3</td>\n",
       "    </tr>\n",
       "    <tr>\n",
       "      <th>...</th>\n",
       "      <td>...</td>\n",
       "      <td>...</td>\n",
       "      <td>...</td>\n",
       "      <td>...</td>\n",
       "      <td>...</td>\n",
       "      <td>...</td>\n",
       "      <td>...</td>\n",
       "      <td>...</td>\n",
       "      <td>...</td>\n",
       "      <td>...</td>\n",
       "      <td>...</td>\n",
       "      <td>...</td>\n",
       "      <td>...</td>\n",
       "      <td>...</td>\n",
       "      <td>...</td>\n",
       "      <td>...</td>\n",
       "      <td>...</td>\n",
       "      <td>...</td>\n",
       "      <td>...</td>\n",
       "      <td>...</td>\n",
       "      <td>...</td>\n",
       "    </tr>\n",
       "    <tr>\n",
       "      <th>30485</th>\n",
       "      <td>FOODS_3_823_WI_3_evaluation</td>\n",
       "      <td>FOODS_3_823</td>\n",
       "      <td>FOODS_3</td>\n",
       "      <td>FOODS</td>\n",
       "      <td>WI_3</td>\n",
       "      <td>WI</td>\n",
       "      <td>0</td>\n",
       "      <td>0</td>\n",
       "      <td>2</td>\n",
       "      <td>2</td>\n",
       "      <td>...</td>\n",
       "      <td>1</td>\n",
       "      <td>2</td>\n",
       "      <td>0</td>\n",
       "      <td>0</td>\n",
       "      <td>0</td>\n",
       "      <td>1</td>\n",
       "      <td>0</td>\n",
       "      <td>0</td>\n",
       "      <td>0</td>\n",
       "      <td>2</td>\n",
       "    </tr>\n",
       "    <tr>\n",
       "      <th>30486</th>\n",
       "      <td>FOODS_3_824_WI_3_evaluation</td>\n",
       "      <td>FOODS_3_824</td>\n",
       "      <td>FOODS_3</td>\n",
       "      <td>FOODS</td>\n",
       "      <td>WI_3</td>\n",
       "      <td>WI</td>\n",
       "      <td>0</td>\n",
       "      <td>0</td>\n",
       "      <td>0</td>\n",
       "      <td>0</td>\n",
       "      <td>...</td>\n",
       "      <td>0</td>\n",
       "      <td>0</td>\n",
       "      <td>0</td>\n",
       "      <td>0</td>\n",
       "      <td>0</td>\n",
       "      <td>0</td>\n",
       "      <td>12</td>\n",
       "      <td>0</td>\n",
       "      <td>0</td>\n",
       "      <td>0</td>\n",
       "    </tr>\n",
       "    <tr>\n",
       "      <th>30487</th>\n",
       "      <td>FOODS_3_825_WI_3_evaluation</td>\n",
       "      <td>FOODS_3_825</td>\n",
       "      <td>FOODS_3</td>\n",
       "      <td>FOODS</td>\n",
       "      <td>WI_3</td>\n",
       "      <td>WI</td>\n",
       "      <td>0</td>\n",
       "      <td>6</td>\n",
       "      <td>0</td>\n",
       "      <td>2</td>\n",
       "      <td>...</td>\n",
       "      <td>1</td>\n",
       "      <td>0</td>\n",
       "      <td>3</td>\n",
       "      <td>2</td>\n",
       "      <td>1</td>\n",
       "      <td>1</td>\n",
       "      <td>0</td>\n",
       "      <td>1</td>\n",
       "      <td>3</td>\n",
       "      <td>0</td>\n",
       "    </tr>\n",
       "    <tr>\n",
       "      <th>30488</th>\n",
       "      <td>FOODS_3_826_WI_3_evaluation</td>\n",
       "      <td>FOODS_3_826</td>\n",
       "      <td>FOODS_3</td>\n",
       "      <td>FOODS</td>\n",
       "      <td>WI_3</td>\n",
       "      <td>WI</td>\n",
       "      <td>0</td>\n",
       "      <td>0</td>\n",
       "      <td>0</td>\n",
       "      <td>0</td>\n",
       "      <td>...</td>\n",
       "      <td>0</td>\n",
       "      <td>0</td>\n",
       "      <td>0</td>\n",
       "      <td>0</td>\n",
       "      <td>0</td>\n",
       "      <td>0</td>\n",
       "      <td>0</td>\n",
       "      <td>0</td>\n",
       "      <td>0</td>\n",
       "      <td>0</td>\n",
       "    </tr>\n",
       "    <tr>\n",
       "      <th>30489</th>\n",
       "      <td>FOODS_3_827_WI_3_evaluation</td>\n",
       "      <td>FOODS_3_827</td>\n",
       "      <td>FOODS_3</td>\n",
       "      <td>FOODS</td>\n",
       "      <td>WI_3</td>\n",
       "      <td>WI</td>\n",
       "      <td>0</td>\n",
       "      <td>0</td>\n",
       "      <td>0</td>\n",
       "      <td>0</td>\n",
       "      <td>...</td>\n",
       "      <td>2</td>\n",
       "      <td>2</td>\n",
       "      <td>4</td>\n",
       "      <td>3</td>\n",
       "      <td>0</td>\n",
       "      <td>3</td>\n",
       "      <td>0</td>\n",
       "      <td>4</td>\n",
       "      <td>0</td>\n",
       "      <td>3</td>\n",
       "    </tr>\n",
       "  </tbody>\n",
       "</table>\n",
       "<p>30490 rows × 1547 columns</p>\n",
       "</div>"
      ],
      "text/plain": [
       "                                  id        item_id    dept_id   cat_id   \n",
       "0      HOBBIES_1_001_CA_1_evaluation  HOBBIES_1_001  HOBBIES_1  HOBBIES  \\\n",
       "1      HOBBIES_1_002_CA_1_evaluation  HOBBIES_1_002  HOBBIES_1  HOBBIES   \n",
       "2      HOBBIES_1_003_CA_1_evaluation  HOBBIES_1_003  HOBBIES_1  HOBBIES   \n",
       "3      HOBBIES_1_004_CA_1_evaluation  HOBBIES_1_004  HOBBIES_1  HOBBIES   \n",
       "4      HOBBIES_1_005_CA_1_evaluation  HOBBIES_1_005  HOBBIES_1  HOBBIES   \n",
       "...                              ...            ...        ...      ...   \n",
       "30485    FOODS_3_823_WI_3_evaluation    FOODS_3_823    FOODS_3    FOODS   \n",
       "30486    FOODS_3_824_WI_3_evaluation    FOODS_3_824    FOODS_3    FOODS   \n",
       "30487    FOODS_3_825_WI_3_evaluation    FOODS_3_825    FOODS_3    FOODS   \n",
       "30488    FOODS_3_826_WI_3_evaluation    FOODS_3_826    FOODS_3    FOODS   \n",
       "30489    FOODS_3_827_WI_3_evaluation    FOODS_3_827    FOODS_3    FOODS   \n",
       "\n",
       "      store_id state_id  d_1  d_2  d_3  d_4  ...  d_1532  d_1533  d_1534   \n",
       "0         CA_1       CA    0    0    0    0  ...       1       1       1  \\\n",
       "1         CA_1       CA    0    0    0    0  ...       0       0       0   \n",
       "2         CA_1       CA    0    0    0    0  ...       0       0       1   \n",
       "3         CA_1       CA    0    0    0    0  ...       8       2       0   \n",
       "4         CA_1       CA    0    0    0    0  ...       2       0       1   \n",
       "...        ...      ...  ...  ...  ...  ...  ...     ...     ...     ...   \n",
       "30485     WI_3       WI    0    0    2    2  ...       1       2       0   \n",
       "30486     WI_3       WI    0    0    0    0  ...       0       0       0   \n",
       "30487     WI_3       WI    0    6    0    2  ...       1       0       3   \n",
       "30488     WI_3       WI    0    0    0    0  ...       0       0       0   \n",
       "30489     WI_3       WI    0    0    0    0  ...       2       2       4   \n",
       "\n",
       "       d_1535  d_1536  d_1537  d_1538  d_1539  d_1540  d_1541  \n",
       "0           0       1       0       1       0       0       1  \n",
       "1           0       0       0       0       0       1       0  \n",
       "2           0       0       0       0       0       0       0  \n",
       "3           8       2       3       1       1       3       8  \n",
       "4           3       2       1       1       2       2       3  \n",
       "...       ...     ...     ...     ...     ...     ...     ...  \n",
       "30485       0       0       1       0       0       0       2  \n",
       "30486       0       0       0      12       0       0       0  \n",
       "30487       2       1       1       0       1       3       0  \n",
       "30488       0       0       0       0       0       0       0  \n",
       "30489       3       0       3       0       4       0       3  \n",
       "\n",
       "[30490 rows x 1547 columns]"
      ]
     },
     "execution_count": 8,
     "metadata": {},
     "output_type": "execute_result"
    }
   ],
   "source": [
    "sales_train"
   ]
  },
  {
   "cell_type": "code",
   "execution_count": 9,
   "id": "b4f77161",
   "metadata": {
    "tags": []
   },
   "outputs": [],
   "source": [
    "# Melt the DataFrame to reshape it\n",
    "sales_train_melted = pd.melt(sales_train, id_vars=['id', 'item_id', 'dept_id', 'cat_id', 'store_id', 'state_id'],\n",
    "                    var_name='day', value_name='item_sales')"
   ]
  },
  {
   "cell_type": "code",
   "execution_count": 10,
   "id": "999f6ffb",
   "metadata": {
    "tags": []
   },
   "outputs": [
    {
     "data": {
      "text/plain": [
       "(46985090, 8)"
      ]
     },
     "execution_count": 10,
     "metadata": {},
     "output_type": "execute_result"
    }
   ],
   "source": [
    "sales_train_melted.shape"
   ]
  },
  {
   "cell_type": "code",
   "execution_count": 11,
   "id": "b9e0cf95",
   "metadata": {
    "tags": []
   },
   "outputs": [
    {
     "data": {
      "text/html": [
       "<div>\n",
       "<style scoped>\n",
       "    .dataframe tbody tr th:only-of-type {\n",
       "        vertical-align: middle;\n",
       "    }\n",
       "\n",
       "    .dataframe tbody tr th {\n",
       "        vertical-align: top;\n",
       "    }\n",
       "\n",
       "    .dataframe thead th {\n",
       "        text-align: right;\n",
       "    }\n",
       "</style>\n",
       "<table border=\"1\" class=\"dataframe\">\n",
       "  <thead>\n",
       "    <tr style=\"text-align: right;\">\n",
       "      <th></th>\n",
       "      <th>id</th>\n",
       "      <th>item_id</th>\n",
       "      <th>dept_id</th>\n",
       "      <th>cat_id</th>\n",
       "      <th>store_id</th>\n",
       "      <th>state_id</th>\n",
       "      <th>day</th>\n",
       "      <th>item_sales</th>\n",
       "    </tr>\n",
       "  </thead>\n",
       "  <tbody>\n",
       "    <tr>\n",
       "      <th>0</th>\n",
       "      <td>HOBBIES_1_001_CA_1_evaluation</td>\n",
       "      <td>HOBBIES_1_001</td>\n",
       "      <td>HOBBIES_1</td>\n",
       "      <td>HOBBIES</td>\n",
       "      <td>CA_1</td>\n",
       "      <td>CA</td>\n",
       "      <td>d_1</td>\n",
       "      <td>0</td>\n",
       "    </tr>\n",
       "    <tr>\n",
       "      <th>1</th>\n",
       "      <td>HOBBIES_1_002_CA_1_evaluation</td>\n",
       "      <td>HOBBIES_1_002</td>\n",
       "      <td>HOBBIES_1</td>\n",
       "      <td>HOBBIES</td>\n",
       "      <td>CA_1</td>\n",
       "      <td>CA</td>\n",
       "      <td>d_1</td>\n",
       "      <td>0</td>\n",
       "    </tr>\n",
       "    <tr>\n",
       "      <th>2</th>\n",
       "      <td>HOBBIES_1_003_CA_1_evaluation</td>\n",
       "      <td>HOBBIES_1_003</td>\n",
       "      <td>HOBBIES_1</td>\n",
       "      <td>HOBBIES</td>\n",
       "      <td>CA_1</td>\n",
       "      <td>CA</td>\n",
       "      <td>d_1</td>\n",
       "      <td>0</td>\n",
       "    </tr>\n",
       "    <tr>\n",
       "      <th>3</th>\n",
       "      <td>HOBBIES_1_004_CA_1_evaluation</td>\n",
       "      <td>HOBBIES_1_004</td>\n",
       "      <td>HOBBIES_1</td>\n",
       "      <td>HOBBIES</td>\n",
       "      <td>CA_1</td>\n",
       "      <td>CA</td>\n",
       "      <td>d_1</td>\n",
       "      <td>0</td>\n",
       "    </tr>\n",
       "    <tr>\n",
       "      <th>4</th>\n",
       "      <td>HOBBIES_1_005_CA_1_evaluation</td>\n",
       "      <td>HOBBIES_1_005</td>\n",
       "      <td>HOBBIES_1</td>\n",
       "      <td>HOBBIES</td>\n",
       "      <td>CA_1</td>\n",
       "      <td>CA</td>\n",
       "      <td>d_1</td>\n",
       "      <td>0</td>\n",
       "    </tr>\n",
       "    <tr>\n",
       "      <th>...</th>\n",
       "      <td>...</td>\n",
       "      <td>...</td>\n",
       "      <td>...</td>\n",
       "      <td>...</td>\n",
       "      <td>...</td>\n",
       "      <td>...</td>\n",
       "      <td>...</td>\n",
       "      <td>...</td>\n",
       "    </tr>\n",
       "    <tr>\n",
       "      <th>46985085</th>\n",
       "      <td>FOODS_3_823_WI_3_evaluation</td>\n",
       "      <td>FOODS_3_823</td>\n",
       "      <td>FOODS_3</td>\n",
       "      <td>FOODS</td>\n",
       "      <td>WI_3</td>\n",
       "      <td>WI</td>\n",
       "      <td>d_1541</td>\n",
       "      <td>2</td>\n",
       "    </tr>\n",
       "    <tr>\n",
       "      <th>46985086</th>\n",
       "      <td>FOODS_3_824_WI_3_evaluation</td>\n",
       "      <td>FOODS_3_824</td>\n",
       "      <td>FOODS_3</td>\n",
       "      <td>FOODS</td>\n",
       "      <td>WI_3</td>\n",
       "      <td>WI</td>\n",
       "      <td>d_1541</td>\n",
       "      <td>0</td>\n",
       "    </tr>\n",
       "    <tr>\n",
       "      <th>46985087</th>\n",
       "      <td>FOODS_3_825_WI_3_evaluation</td>\n",
       "      <td>FOODS_3_825</td>\n",
       "      <td>FOODS_3</td>\n",
       "      <td>FOODS</td>\n",
       "      <td>WI_3</td>\n",
       "      <td>WI</td>\n",
       "      <td>d_1541</td>\n",
       "      <td>0</td>\n",
       "    </tr>\n",
       "    <tr>\n",
       "      <th>46985088</th>\n",
       "      <td>FOODS_3_826_WI_3_evaluation</td>\n",
       "      <td>FOODS_3_826</td>\n",
       "      <td>FOODS_3</td>\n",
       "      <td>FOODS</td>\n",
       "      <td>WI_3</td>\n",
       "      <td>WI</td>\n",
       "      <td>d_1541</td>\n",
       "      <td>0</td>\n",
       "    </tr>\n",
       "    <tr>\n",
       "      <th>46985089</th>\n",
       "      <td>FOODS_3_827_WI_3_evaluation</td>\n",
       "      <td>FOODS_3_827</td>\n",
       "      <td>FOODS_3</td>\n",
       "      <td>FOODS</td>\n",
       "      <td>WI_3</td>\n",
       "      <td>WI</td>\n",
       "      <td>d_1541</td>\n",
       "      <td>3</td>\n",
       "    </tr>\n",
       "  </tbody>\n",
       "</table>\n",
       "<p>46985090 rows × 8 columns</p>\n",
       "</div>"
      ],
      "text/plain": [
       "                                     id        item_id    dept_id   cat_id   \n",
       "0         HOBBIES_1_001_CA_1_evaluation  HOBBIES_1_001  HOBBIES_1  HOBBIES  \\\n",
       "1         HOBBIES_1_002_CA_1_evaluation  HOBBIES_1_002  HOBBIES_1  HOBBIES   \n",
       "2         HOBBIES_1_003_CA_1_evaluation  HOBBIES_1_003  HOBBIES_1  HOBBIES   \n",
       "3         HOBBIES_1_004_CA_1_evaluation  HOBBIES_1_004  HOBBIES_1  HOBBIES   \n",
       "4         HOBBIES_1_005_CA_1_evaluation  HOBBIES_1_005  HOBBIES_1  HOBBIES   \n",
       "...                                 ...            ...        ...      ...   \n",
       "46985085    FOODS_3_823_WI_3_evaluation    FOODS_3_823    FOODS_3    FOODS   \n",
       "46985086    FOODS_3_824_WI_3_evaluation    FOODS_3_824    FOODS_3    FOODS   \n",
       "46985087    FOODS_3_825_WI_3_evaluation    FOODS_3_825    FOODS_3    FOODS   \n",
       "46985088    FOODS_3_826_WI_3_evaluation    FOODS_3_826    FOODS_3    FOODS   \n",
       "46985089    FOODS_3_827_WI_3_evaluation    FOODS_3_827    FOODS_3    FOODS   \n",
       "\n",
       "         store_id state_id     day  item_sales  \n",
       "0            CA_1       CA     d_1           0  \n",
       "1            CA_1       CA     d_1           0  \n",
       "2            CA_1       CA     d_1           0  \n",
       "3            CA_1       CA     d_1           0  \n",
       "4            CA_1       CA     d_1           0  \n",
       "...           ...      ...     ...         ...  \n",
       "46985085     WI_3       WI  d_1541           2  \n",
       "46985086     WI_3       WI  d_1541           0  \n",
       "46985087     WI_3       WI  d_1541           0  \n",
       "46985088     WI_3       WI  d_1541           0  \n",
       "46985089     WI_3       WI  d_1541           3  \n",
       "\n",
       "[46985090 rows x 8 columns]"
      ]
     },
     "execution_count": 11,
     "metadata": {},
     "output_type": "execute_result"
    }
   ],
   "source": [
    "sales_train_melted"
   ]
  },
  {
   "cell_type": "code",
   "execution_count": 12,
   "id": "2f8bd1c5",
   "metadata": {
    "tags": []
   },
   "outputs": [],
   "source": [
    "# Merge the two DataFrames based on the 'day' and 'd' columns\n",
    "merged_df = sales_train_melted.merge(calendar[['d', 'date', 'wm_yr_wk']], left_on='day', right_on='d', how='left')"
   ]
  },
  {
   "cell_type": "code",
   "execution_count": 13,
   "id": "14f17c12-ed38-4ed9-a1a2-1ea02bca5690",
   "metadata": {
    "tags": []
   },
   "outputs": [],
   "source": [
    "calendar_events = pd.DataFrame(calendar_events.groupby('date').size().reset_index(name='event_count'))"
   ]
  },
  {
   "cell_type": "code",
   "execution_count": 14,
   "id": "e812ca2a",
   "metadata": {
    "tags": []
   },
   "outputs": [],
   "source": [
    "merged_df = merged_df.merge(calendar_events, on='date', how='left')"
   ]
  },
  {
   "cell_type": "code",
   "execution_count": 15,
   "id": "fd475c2e",
   "metadata": {
    "tags": []
   },
   "outputs": [
    {
     "data": {
      "text/html": [
       "<div>\n",
       "<style scoped>\n",
       "    .dataframe tbody tr th:only-of-type {\n",
       "        vertical-align: middle;\n",
       "    }\n",
       "\n",
       "    .dataframe tbody tr th {\n",
       "        vertical-align: top;\n",
       "    }\n",
       "\n",
       "    .dataframe thead th {\n",
       "        text-align: right;\n",
       "    }\n",
       "</style>\n",
       "<table border=\"1\" class=\"dataframe\">\n",
       "  <thead>\n",
       "    <tr style=\"text-align: right;\">\n",
       "      <th></th>\n",
       "      <th>id</th>\n",
       "      <th>item_id</th>\n",
       "      <th>dept_id</th>\n",
       "      <th>cat_id</th>\n",
       "      <th>store_id</th>\n",
       "      <th>state_id</th>\n",
       "      <th>day</th>\n",
       "      <th>item_sales</th>\n",
       "      <th>d</th>\n",
       "      <th>date</th>\n",
       "      <th>wm_yr_wk</th>\n",
       "      <th>event_count</th>\n",
       "      <th>sell_price</th>\n",
       "    </tr>\n",
       "  </thead>\n",
       "  <tbody>\n",
       "    <tr>\n",
       "      <th>0</th>\n",
       "      <td>HOBBIES_1_001_CA_1_evaluation</td>\n",
       "      <td>HOBBIES_1_001</td>\n",
       "      <td>HOBBIES_1</td>\n",
       "      <td>HOBBIES</td>\n",
       "      <td>CA_1</td>\n",
       "      <td>CA</td>\n",
       "      <td>d_1</td>\n",
       "      <td>0</td>\n",
       "      <td>d_1</td>\n",
       "      <td>2011-01-29</td>\n",
       "      <td>11101</td>\n",
       "      <td>NaN</td>\n",
       "      <td>NaN</td>\n",
       "    </tr>\n",
       "    <tr>\n",
       "      <th>1</th>\n",
       "      <td>HOBBIES_1_002_CA_1_evaluation</td>\n",
       "      <td>HOBBIES_1_002</td>\n",
       "      <td>HOBBIES_1</td>\n",
       "      <td>HOBBIES</td>\n",
       "      <td>CA_1</td>\n",
       "      <td>CA</td>\n",
       "      <td>d_1</td>\n",
       "      <td>0</td>\n",
       "      <td>d_1</td>\n",
       "      <td>2011-01-29</td>\n",
       "      <td>11101</td>\n",
       "      <td>NaN</td>\n",
       "      <td>NaN</td>\n",
       "    </tr>\n",
       "    <tr>\n",
       "      <th>2</th>\n",
       "      <td>HOBBIES_1_003_CA_1_evaluation</td>\n",
       "      <td>HOBBIES_1_003</td>\n",
       "      <td>HOBBIES_1</td>\n",
       "      <td>HOBBIES</td>\n",
       "      <td>CA_1</td>\n",
       "      <td>CA</td>\n",
       "      <td>d_1</td>\n",
       "      <td>0</td>\n",
       "      <td>d_1</td>\n",
       "      <td>2011-01-29</td>\n",
       "      <td>11101</td>\n",
       "      <td>NaN</td>\n",
       "      <td>NaN</td>\n",
       "    </tr>\n",
       "    <tr>\n",
       "      <th>3</th>\n",
       "      <td>HOBBIES_1_004_CA_1_evaluation</td>\n",
       "      <td>HOBBIES_1_004</td>\n",
       "      <td>HOBBIES_1</td>\n",
       "      <td>HOBBIES</td>\n",
       "      <td>CA_1</td>\n",
       "      <td>CA</td>\n",
       "      <td>d_1</td>\n",
       "      <td>0</td>\n",
       "      <td>d_1</td>\n",
       "      <td>2011-01-29</td>\n",
       "      <td>11101</td>\n",
       "      <td>NaN</td>\n",
       "      <td>NaN</td>\n",
       "    </tr>\n",
       "    <tr>\n",
       "      <th>4</th>\n",
       "      <td>HOBBIES_1_005_CA_1_evaluation</td>\n",
       "      <td>HOBBIES_1_005</td>\n",
       "      <td>HOBBIES_1</td>\n",
       "      <td>HOBBIES</td>\n",
       "      <td>CA_1</td>\n",
       "      <td>CA</td>\n",
       "      <td>d_1</td>\n",
       "      <td>0</td>\n",
       "      <td>d_1</td>\n",
       "      <td>2011-01-29</td>\n",
       "      <td>11101</td>\n",
       "      <td>NaN</td>\n",
       "      <td>NaN</td>\n",
       "    </tr>\n",
       "    <tr>\n",
       "      <th>...</th>\n",
       "      <td>...</td>\n",
       "      <td>...</td>\n",
       "      <td>...</td>\n",
       "      <td>...</td>\n",
       "      <td>...</td>\n",
       "      <td>...</td>\n",
       "      <td>...</td>\n",
       "      <td>...</td>\n",
       "      <td>...</td>\n",
       "      <td>...</td>\n",
       "      <td>...</td>\n",
       "      <td>...</td>\n",
       "      <td>...</td>\n",
       "    </tr>\n",
       "    <tr>\n",
       "      <th>46985085</th>\n",
       "      <td>FOODS_3_823_WI_3_evaluation</td>\n",
       "      <td>FOODS_3_823</td>\n",
       "      <td>FOODS_3</td>\n",
       "      <td>FOODS</td>\n",
       "      <td>WI_3</td>\n",
       "      <td>WI</td>\n",
       "      <td>d_1541</td>\n",
       "      <td>2</td>\n",
       "      <td>d_1541</td>\n",
       "      <td>2015-04-18</td>\n",
       "      <td>11512</td>\n",
       "      <td>NaN</td>\n",
       "      <td>2.88</td>\n",
       "    </tr>\n",
       "    <tr>\n",
       "      <th>46985086</th>\n",
       "      <td>FOODS_3_824_WI_3_evaluation</td>\n",
       "      <td>FOODS_3_824</td>\n",
       "      <td>FOODS_3</td>\n",
       "      <td>FOODS</td>\n",
       "      <td>WI_3</td>\n",
       "      <td>WI</td>\n",
       "      <td>d_1541</td>\n",
       "      <td>0</td>\n",
       "      <td>d_1541</td>\n",
       "      <td>2015-04-18</td>\n",
       "      <td>11512</td>\n",
       "      <td>NaN</td>\n",
       "      <td>2.00</td>\n",
       "    </tr>\n",
       "    <tr>\n",
       "      <th>46985087</th>\n",
       "      <td>FOODS_3_825_WI_3_evaluation</td>\n",
       "      <td>FOODS_3_825</td>\n",
       "      <td>FOODS_3</td>\n",
       "      <td>FOODS</td>\n",
       "      <td>WI_3</td>\n",
       "      <td>WI</td>\n",
       "      <td>d_1541</td>\n",
       "      <td>0</td>\n",
       "      <td>d_1541</td>\n",
       "      <td>2015-04-18</td>\n",
       "      <td>11512</td>\n",
       "      <td>NaN</td>\n",
       "      <td>3.98</td>\n",
       "    </tr>\n",
       "    <tr>\n",
       "      <th>46985088</th>\n",
       "      <td>FOODS_3_826_WI_3_evaluation</td>\n",
       "      <td>FOODS_3_826</td>\n",
       "      <td>FOODS_3</td>\n",
       "      <td>FOODS</td>\n",
       "      <td>WI_3</td>\n",
       "      <td>WI</td>\n",
       "      <td>d_1541</td>\n",
       "      <td>0</td>\n",
       "      <td>d_1541</td>\n",
       "      <td>2015-04-18</td>\n",
       "      <td>11512</td>\n",
       "      <td>NaN</td>\n",
       "      <td>1.28</td>\n",
       "    </tr>\n",
       "    <tr>\n",
       "      <th>46985089</th>\n",
       "      <td>FOODS_3_827_WI_3_evaluation</td>\n",
       "      <td>FOODS_3_827</td>\n",
       "      <td>FOODS_3</td>\n",
       "      <td>FOODS</td>\n",
       "      <td>WI_3</td>\n",
       "      <td>WI</td>\n",
       "      <td>d_1541</td>\n",
       "      <td>3</td>\n",
       "      <td>d_1541</td>\n",
       "      <td>2015-04-18</td>\n",
       "      <td>11512</td>\n",
       "      <td>NaN</td>\n",
       "      <td>1.00</td>\n",
       "    </tr>\n",
       "  </tbody>\n",
       "</table>\n",
       "<p>46985090 rows × 13 columns</p>\n",
       "</div>"
      ],
      "text/plain": [
       "                                     id        item_id    dept_id   cat_id   \n",
       "0         HOBBIES_1_001_CA_1_evaluation  HOBBIES_1_001  HOBBIES_1  HOBBIES  \\\n",
       "1         HOBBIES_1_002_CA_1_evaluation  HOBBIES_1_002  HOBBIES_1  HOBBIES   \n",
       "2         HOBBIES_1_003_CA_1_evaluation  HOBBIES_1_003  HOBBIES_1  HOBBIES   \n",
       "3         HOBBIES_1_004_CA_1_evaluation  HOBBIES_1_004  HOBBIES_1  HOBBIES   \n",
       "4         HOBBIES_1_005_CA_1_evaluation  HOBBIES_1_005  HOBBIES_1  HOBBIES   \n",
       "...                                 ...            ...        ...      ...   \n",
       "46985085    FOODS_3_823_WI_3_evaluation    FOODS_3_823    FOODS_3    FOODS   \n",
       "46985086    FOODS_3_824_WI_3_evaluation    FOODS_3_824    FOODS_3    FOODS   \n",
       "46985087    FOODS_3_825_WI_3_evaluation    FOODS_3_825    FOODS_3    FOODS   \n",
       "46985088    FOODS_3_826_WI_3_evaluation    FOODS_3_826    FOODS_3    FOODS   \n",
       "46985089    FOODS_3_827_WI_3_evaluation    FOODS_3_827    FOODS_3    FOODS   \n",
       "\n",
       "         store_id state_id     day  item_sales       d        date  wm_yr_wk   \n",
       "0            CA_1       CA     d_1           0     d_1  2011-01-29     11101  \\\n",
       "1            CA_1       CA     d_1           0     d_1  2011-01-29     11101   \n",
       "2            CA_1       CA     d_1           0     d_1  2011-01-29     11101   \n",
       "3            CA_1       CA     d_1           0     d_1  2011-01-29     11101   \n",
       "4            CA_1       CA     d_1           0     d_1  2011-01-29     11101   \n",
       "...           ...      ...     ...         ...     ...         ...       ...   \n",
       "46985085     WI_3       WI  d_1541           2  d_1541  2015-04-18     11512   \n",
       "46985086     WI_3       WI  d_1541           0  d_1541  2015-04-18     11512   \n",
       "46985087     WI_3       WI  d_1541           0  d_1541  2015-04-18     11512   \n",
       "46985088     WI_3       WI  d_1541           0  d_1541  2015-04-18     11512   \n",
       "46985089     WI_3       WI  d_1541           3  d_1541  2015-04-18     11512   \n",
       "\n",
       "          event_count  sell_price  \n",
       "0                 NaN         NaN  \n",
       "1                 NaN         NaN  \n",
       "2                 NaN         NaN  \n",
       "3                 NaN         NaN  \n",
       "4                 NaN         NaN  \n",
       "...               ...         ...  \n",
       "46985085          NaN        2.88  \n",
       "46985086          NaN        2.00  \n",
       "46985087          NaN        3.98  \n",
       "46985088          NaN        1.28  \n",
       "46985089          NaN        1.00  \n",
       "\n",
       "[46985090 rows x 13 columns]"
      ]
     },
     "execution_count": 15,
     "metadata": {},
     "output_type": "execute_result"
    }
   ],
   "source": [
    "merged_df = merged_df.merge(items_weekly_sell_prices[['store_id', 'item_id', 'wm_yr_wk', 'sell_price']], \n",
    "                            on=['store_id', 'item_id', 'wm_yr_wk'], how='left')\n",
    "merged_df"
   ]
  },
  {
   "cell_type": "code",
   "execution_count": 16,
   "id": "c7985baf",
   "metadata": {
    "tags": []
   },
   "outputs": [],
   "source": [
    "# Drop columns as it's no longer needed\n",
    "df = merged_df.drop(columns=['id','dept_id','cat_id','state_id','d','day','wm_yr_wk'])"
   ]
  },
  {
   "cell_type": "code",
   "execution_count": 17,
   "id": "3c668e9a-ceeb-4e2a-bbbc-56bb6c7a8c4b",
   "metadata": {
    "tags": []
   },
   "outputs": [],
   "source": [
    "df['is_event'] = (df['event_count'] > 0).astype(int)\n",
    "df = df.drop('event_count', axis=1)"
   ]
  },
  {
   "cell_type": "code",
   "execution_count": 18,
   "id": "75560d3c",
   "metadata": {
    "scrolled": true,
    "tags": []
   },
   "outputs": [
    {
     "data": {
      "text/html": [
       "<div>\n",
       "<style scoped>\n",
       "    .dataframe tbody tr th:only-of-type {\n",
       "        vertical-align: middle;\n",
       "    }\n",
       "\n",
       "    .dataframe tbody tr th {\n",
       "        vertical-align: top;\n",
       "    }\n",
       "\n",
       "    .dataframe thead th {\n",
       "        text-align: right;\n",
       "    }\n",
       "</style>\n",
       "<table border=\"1\" class=\"dataframe\">\n",
       "  <thead>\n",
       "    <tr style=\"text-align: right;\">\n",
       "      <th></th>\n",
       "      <th>item_id</th>\n",
       "      <th>store_id</th>\n",
       "      <th>item_sales</th>\n",
       "      <th>date</th>\n",
       "      <th>sell_price</th>\n",
       "      <th>is_event</th>\n",
       "    </tr>\n",
       "  </thead>\n",
       "  <tbody>\n",
       "    <tr>\n",
       "      <th>0</th>\n",
       "      <td>HOBBIES_1_001</td>\n",
       "      <td>CA_1</td>\n",
       "      <td>0</td>\n",
       "      <td>2011-01-29</td>\n",
       "      <td>NaN</td>\n",
       "      <td>0</td>\n",
       "    </tr>\n",
       "    <tr>\n",
       "      <th>1</th>\n",
       "      <td>HOBBIES_1_002</td>\n",
       "      <td>CA_1</td>\n",
       "      <td>0</td>\n",
       "      <td>2011-01-29</td>\n",
       "      <td>NaN</td>\n",
       "      <td>0</td>\n",
       "    </tr>\n",
       "    <tr>\n",
       "      <th>2</th>\n",
       "      <td>HOBBIES_1_003</td>\n",
       "      <td>CA_1</td>\n",
       "      <td>0</td>\n",
       "      <td>2011-01-29</td>\n",
       "      <td>NaN</td>\n",
       "      <td>0</td>\n",
       "    </tr>\n",
       "    <tr>\n",
       "      <th>3</th>\n",
       "      <td>HOBBIES_1_004</td>\n",
       "      <td>CA_1</td>\n",
       "      <td>0</td>\n",
       "      <td>2011-01-29</td>\n",
       "      <td>NaN</td>\n",
       "      <td>0</td>\n",
       "    </tr>\n",
       "    <tr>\n",
       "      <th>4</th>\n",
       "      <td>HOBBIES_1_005</td>\n",
       "      <td>CA_1</td>\n",
       "      <td>0</td>\n",
       "      <td>2011-01-29</td>\n",
       "      <td>NaN</td>\n",
       "      <td>0</td>\n",
       "    </tr>\n",
       "    <tr>\n",
       "      <th>...</th>\n",
       "      <td>...</td>\n",
       "      <td>...</td>\n",
       "      <td>...</td>\n",
       "      <td>...</td>\n",
       "      <td>...</td>\n",
       "      <td>...</td>\n",
       "    </tr>\n",
       "    <tr>\n",
       "      <th>46985085</th>\n",
       "      <td>FOODS_3_823</td>\n",
       "      <td>WI_3</td>\n",
       "      <td>2</td>\n",
       "      <td>2015-04-18</td>\n",
       "      <td>2.88</td>\n",
       "      <td>0</td>\n",
       "    </tr>\n",
       "    <tr>\n",
       "      <th>46985086</th>\n",
       "      <td>FOODS_3_824</td>\n",
       "      <td>WI_3</td>\n",
       "      <td>0</td>\n",
       "      <td>2015-04-18</td>\n",
       "      <td>2.00</td>\n",
       "      <td>0</td>\n",
       "    </tr>\n",
       "    <tr>\n",
       "      <th>46985087</th>\n",
       "      <td>FOODS_3_825</td>\n",
       "      <td>WI_3</td>\n",
       "      <td>0</td>\n",
       "      <td>2015-04-18</td>\n",
       "      <td>3.98</td>\n",
       "      <td>0</td>\n",
       "    </tr>\n",
       "    <tr>\n",
       "      <th>46985088</th>\n",
       "      <td>FOODS_3_826</td>\n",
       "      <td>WI_3</td>\n",
       "      <td>0</td>\n",
       "      <td>2015-04-18</td>\n",
       "      <td>1.28</td>\n",
       "      <td>0</td>\n",
       "    </tr>\n",
       "    <tr>\n",
       "      <th>46985089</th>\n",
       "      <td>FOODS_3_827</td>\n",
       "      <td>WI_3</td>\n",
       "      <td>3</td>\n",
       "      <td>2015-04-18</td>\n",
       "      <td>1.00</td>\n",
       "      <td>0</td>\n",
       "    </tr>\n",
       "  </tbody>\n",
       "</table>\n",
       "<p>46985090 rows × 6 columns</p>\n",
       "</div>"
      ],
      "text/plain": [
       "                item_id store_id  item_sales        date  sell_price  is_event\n",
       "0         HOBBIES_1_001     CA_1           0  2011-01-29         NaN         0\n",
       "1         HOBBIES_1_002     CA_1           0  2011-01-29         NaN         0\n",
       "2         HOBBIES_1_003     CA_1           0  2011-01-29         NaN         0\n",
       "3         HOBBIES_1_004     CA_1           0  2011-01-29         NaN         0\n",
       "4         HOBBIES_1_005     CA_1           0  2011-01-29         NaN         0\n",
       "...                 ...      ...         ...         ...         ...       ...\n",
       "46985085    FOODS_3_823     WI_3           2  2015-04-18        2.88         0\n",
       "46985086    FOODS_3_824     WI_3           0  2015-04-18        2.00         0\n",
       "46985087    FOODS_3_825     WI_3           0  2015-04-18        3.98         0\n",
       "46985088    FOODS_3_826     WI_3           0  2015-04-18        1.28         0\n",
       "46985089    FOODS_3_827     WI_3           3  2015-04-18        1.00         0\n",
       "\n",
       "[46985090 rows x 6 columns]"
      ]
     },
     "execution_count": 18,
     "metadata": {},
     "output_type": "execute_result"
    }
   ],
   "source": [
    "df"
   ]
  },
  {
   "cell_type": "code",
   "execution_count": 19,
   "id": "08a60c31",
   "metadata": {
    "tags": []
   },
   "outputs": [
    {
     "data": {
      "text/html": [
       "<div>\n",
       "<style scoped>\n",
       "    .dataframe tbody tr th:only-of-type {\n",
       "        vertical-align: middle;\n",
       "    }\n",
       "\n",
       "    .dataframe tbody tr th {\n",
       "        vertical-align: top;\n",
       "    }\n",
       "\n",
       "    .dataframe thead th {\n",
       "        text-align: right;\n",
       "    }\n",
       "</style>\n",
       "<table border=\"1\" class=\"dataframe\">\n",
       "  <thead>\n",
       "    <tr style=\"text-align: right;\">\n",
       "      <th></th>\n",
       "      <th>count</th>\n",
       "      <th>mean</th>\n",
       "      <th>std</th>\n",
       "      <th>min</th>\n",
       "      <th>25%</th>\n",
       "      <th>50%</th>\n",
       "      <th>75%</th>\n",
       "      <th>max</th>\n",
       "    </tr>\n",
       "  </thead>\n",
       "  <tbody>\n",
       "    <tr>\n",
       "      <th>item_sales</th>\n",
       "      <td>46985090.0</td>\n",
       "      <td>1.086717</td>\n",
       "      <td>3.933200</td>\n",
       "      <td>0.00</td>\n",
       "      <td>0.00</td>\n",
       "      <td>0.00</td>\n",
       "      <td>1.00</td>\n",
       "      <td>763.00</td>\n",
       "    </tr>\n",
       "    <tr>\n",
       "      <th>sell_price</th>\n",
       "      <td>34720691.0</td>\n",
       "      <td>4.383804</td>\n",
       "      <td>3.358138</td>\n",
       "      <td>0.01</td>\n",
       "      <td>2.08</td>\n",
       "      <td>3.44</td>\n",
       "      <td>5.84</td>\n",
       "      <td>107.32</td>\n",
       "    </tr>\n",
       "    <tr>\n",
       "      <th>is_event</th>\n",
       "      <td>46985090.0</td>\n",
       "      <td>0.081765</td>\n",
       "      <td>0.274006</td>\n",
       "      <td>0.00</td>\n",
       "      <td>0.00</td>\n",
       "      <td>0.00</td>\n",
       "      <td>0.00</td>\n",
       "      <td>1.00</td>\n",
       "    </tr>\n",
       "  </tbody>\n",
       "</table>\n",
       "</div>"
      ],
      "text/plain": [
       "                 count      mean       std   min   25%   50%   75%     max\n",
       "item_sales  46985090.0  1.086717  3.933200  0.00  0.00  0.00  1.00  763.00\n",
       "sell_price  34720691.0  4.383804  3.358138  0.01  2.08  3.44  5.84  107.32\n",
       "is_event    46985090.0  0.081765  0.274006  0.00  0.00  0.00  0.00    1.00"
      ]
     },
     "execution_count": 19,
     "metadata": {},
     "output_type": "execute_result"
    }
   ],
   "source": [
    "df.describe().transpose()"
   ]
  },
  {
   "cell_type": "code",
   "execution_count": 20,
   "id": "df20a0c9",
   "metadata": {
    "tags": []
   },
   "outputs": [],
   "source": [
    "df['revenue'] = df['item_sales']*df['sell_price']\n",
    "df['revenue'].fillna(0, inplace=True)\n",
    "df['sell_price'].fillna(0, inplace=True)"
   ]
  },
  {
   "cell_type": "code",
   "execution_count": 21,
   "id": "b2a6880e",
   "metadata": {
    "tags": []
   },
   "outputs": [
    {
     "data": {
      "text/html": [
       "<div>\n",
       "<style scoped>\n",
       "    .dataframe tbody tr th:only-of-type {\n",
       "        vertical-align: middle;\n",
       "    }\n",
       "\n",
       "    .dataframe tbody tr th {\n",
       "        vertical-align: top;\n",
       "    }\n",
       "\n",
       "    .dataframe thead th {\n",
       "        text-align: right;\n",
       "    }\n",
       "</style>\n",
       "<table border=\"1\" class=\"dataframe\">\n",
       "  <thead>\n",
       "    <tr style=\"text-align: right;\">\n",
       "      <th></th>\n",
       "      <th>item_id</th>\n",
       "      <th>store_id</th>\n",
       "      <th>item_sales</th>\n",
       "      <th>date</th>\n",
       "      <th>sell_price</th>\n",
       "      <th>is_event</th>\n",
       "      <th>revenue</th>\n",
       "    </tr>\n",
       "  </thead>\n",
       "  <tbody>\n",
       "    <tr>\n",
       "      <th>0</th>\n",
       "      <td>HOBBIES_1_001</td>\n",
       "      <td>CA_1</td>\n",
       "      <td>0</td>\n",
       "      <td>2011-01-29</td>\n",
       "      <td>0.00</td>\n",
       "      <td>0</td>\n",
       "      <td>0.00</td>\n",
       "    </tr>\n",
       "    <tr>\n",
       "      <th>1</th>\n",
       "      <td>HOBBIES_1_002</td>\n",
       "      <td>CA_1</td>\n",
       "      <td>0</td>\n",
       "      <td>2011-01-29</td>\n",
       "      <td>0.00</td>\n",
       "      <td>0</td>\n",
       "      <td>0.00</td>\n",
       "    </tr>\n",
       "    <tr>\n",
       "      <th>2</th>\n",
       "      <td>HOBBIES_1_003</td>\n",
       "      <td>CA_1</td>\n",
       "      <td>0</td>\n",
       "      <td>2011-01-29</td>\n",
       "      <td>0.00</td>\n",
       "      <td>0</td>\n",
       "      <td>0.00</td>\n",
       "    </tr>\n",
       "    <tr>\n",
       "      <th>3</th>\n",
       "      <td>HOBBIES_1_004</td>\n",
       "      <td>CA_1</td>\n",
       "      <td>0</td>\n",
       "      <td>2011-01-29</td>\n",
       "      <td>0.00</td>\n",
       "      <td>0</td>\n",
       "      <td>0.00</td>\n",
       "    </tr>\n",
       "    <tr>\n",
       "      <th>4</th>\n",
       "      <td>HOBBIES_1_005</td>\n",
       "      <td>CA_1</td>\n",
       "      <td>0</td>\n",
       "      <td>2011-01-29</td>\n",
       "      <td>0.00</td>\n",
       "      <td>0</td>\n",
       "      <td>0.00</td>\n",
       "    </tr>\n",
       "    <tr>\n",
       "      <th>...</th>\n",
       "      <td>...</td>\n",
       "      <td>...</td>\n",
       "      <td>...</td>\n",
       "      <td>...</td>\n",
       "      <td>...</td>\n",
       "      <td>...</td>\n",
       "      <td>...</td>\n",
       "    </tr>\n",
       "    <tr>\n",
       "      <th>46985085</th>\n",
       "      <td>FOODS_3_823</td>\n",
       "      <td>WI_3</td>\n",
       "      <td>2</td>\n",
       "      <td>2015-04-18</td>\n",
       "      <td>2.88</td>\n",
       "      <td>0</td>\n",
       "      <td>5.76</td>\n",
       "    </tr>\n",
       "    <tr>\n",
       "      <th>46985086</th>\n",
       "      <td>FOODS_3_824</td>\n",
       "      <td>WI_3</td>\n",
       "      <td>0</td>\n",
       "      <td>2015-04-18</td>\n",
       "      <td>2.00</td>\n",
       "      <td>0</td>\n",
       "      <td>0.00</td>\n",
       "    </tr>\n",
       "    <tr>\n",
       "      <th>46985087</th>\n",
       "      <td>FOODS_3_825</td>\n",
       "      <td>WI_3</td>\n",
       "      <td>0</td>\n",
       "      <td>2015-04-18</td>\n",
       "      <td>3.98</td>\n",
       "      <td>0</td>\n",
       "      <td>0.00</td>\n",
       "    </tr>\n",
       "    <tr>\n",
       "      <th>46985088</th>\n",
       "      <td>FOODS_3_826</td>\n",
       "      <td>WI_3</td>\n",
       "      <td>0</td>\n",
       "      <td>2015-04-18</td>\n",
       "      <td>1.28</td>\n",
       "      <td>0</td>\n",
       "      <td>0.00</td>\n",
       "    </tr>\n",
       "    <tr>\n",
       "      <th>46985089</th>\n",
       "      <td>FOODS_3_827</td>\n",
       "      <td>WI_3</td>\n",
       "      <td>3</td>\n",
       "      <td>2015-04-18</td>\n",
       "      <td>1.00</td>\n",
       "      <td>0</td>\n",
       "      <td>3.00</td>\n",
       "    </tr>\n",
       "  </tbody>\n",
       "</table>\n",
       "<p>46985090 rows × 7 columns</p>\n",
       "</div>"
      ],
      "text/plain": [
       "                item_id store_id  item_sales        date  sell_price   \n",
       "0         HOBBIES_1_001     CA_1           0  2011-01-29        0.00  \\\n",
       "1         HOBBIES_1_002     CA_1           0  2011-01-29        0.00   \n",
       "2         HOBBIES_1_003     CA_1           0  2011-01-29        0.00   \n",
       "3         HOBBIES_1_004     CA_1           0  2011-01-29        0.00   \n",
       "4         HOBBIES_1_005     CA_1           0  2011-01-29        0.00   \n",
       "...                 ...      ...         ...         ...         ...   \n",
       "46985085    FOODS_3_823     WI_3           2  2015-04-18        2.88   \n",
       "46985086    FOODS_3_824     WI_3           0  2015-04-18        2.00   \n",
       "46985087    FOODS_3_825     WI_3           0  2015-04-18        3.98   \n",
       "46985088    FOODS_3_826     WI_3           0  2015-04-18        1.28   \n",
       "46985089    FOODS_3_827     WI_3           3  2015-04-18        1.00   \n",
       "\n",
       "          is_event  revenue  \n",
       "0                0     0.00  \n",
       "1                0     0.00  \n",
       "2                0     0.00  \n",
       "3                0     0.00  \n",
       "4                0     0.00  \n",
       "...            ...      ...  \n",
       "46985085         0     5.76  \n",
       "46985086         0     0.00  \n",
       "46985087         0     0.00  \n",
       "46985088         0     0.00  \n",
       "46985089         0     3.00  \n",
       "\n",
       "[46985090 rows x 7 columns]"
      ]
     },
     "execution_count": 21,
     "metadata": {},
     "output_type": "execute_result"
    }
   ],
   "source": [
    "df"
   ]
  },
  {
   "cell_type": "code",
   "execution_count": 22,
   "id": "64f166b2",
   "metadata": {
    "tags": []
   },
   "outputs": [
    {
     "data": {
      "text/plain": [
       "33000385"
      ]
     },
     "execution_count": 22,
     "metadata": {},
     "output_type": "execute_result"
    }
   ],
   "source": [
    "(df['revenue'] == 0).sum()"
   ]
  },
  {
   "cell_type": "code",
   "execution_count": 23,
   "id": "e06b59a1",
   "metadata": {
    "tags": []
   },
   "outputs": [
    {
     "data": {
      "text/html": [
       "<div>\n",
       "<style scoped>\n",
       "    .dataframe tbody tr th:only-of-type {\n",
       "        vertical-align: middle;\n",
       "    }\n",
       "\n",
       "    .dataframe tbody tr th {\n",
       "        vertical-align: top;\n",
       "    }\n",
       "\n",
       "    .dataframe thead th {\n",
       "        text-align: right;\n",
       "    }\n",
       "</style>\n",
       "<table border=\"1\" class=\"dataframe\">\n",
       "  <thead>\n",
       "    <tr style=\"text-align: right;\">\n",
       "      <th></th>\n",
       "      <th>item_id</th>\n",
       "      <th>store_id</th>\n",
       "      <th>item_sales</th>\n",
       "      <th>date</th>\n",
       "      <th>sell_price</th>\n",
       "      <th>is_event</th>\n",
       "      <th>revenue</th>\n",
       "    </tr>\n",
       "  </thead>\n",
       "  <tbody>\n",
       "    <tr>\n",
       "      <th>7</th>\n",
       "      <td>HOBBIES_1_008</td>\n",
       "      <td>CA_1</td>\n",
       "      <td>12</td>\n",
       "      <td>2011-01-29</td>\n",
       "      <td>0.46</td>\n",
       "      <td>0</td>\n",
       "      <td>5.52</td>\n",
       "    </tr>\n",
       "    <tr>\n",
       "      <th>8</th>\n",
       "      <td>HOBBIES_1_009</td>\n",
       "      <td>CA_1</td>\n",
       "      <td>2</td>\n",
       "      <td>2011-01-29</td>\n",
       "      <td>1.56</td>\n",
       "      <td>0</td>\n",
       "      <td>3.12</td>\n",
       "    </tr>\n",
       "    <tr>\n",
       "      <th>14</th>\n",
       "      <td>HOBBIES_1_015</td>\n",
       "      <td>CA_1</td>\n",
       "      <td>4</td>\n",
       "      <td>2011-01-29</td>\n",
       "      <td>0.70</td>\n",
       "      <td>0</td>\n",
       "      <td>2.80</td>\n",
       "    </tr>\n",
       "    <tr>\n",
       "      <th>15</th>\n",
       "      <td>HOBBIES_1_016</td>\n",
       "      <td>CA_1</td>\n",
       "      <td>5</td>\n",
       "      <td>2011-01-29</td>\n",
       "      <td>0.70</td>\n",
       "      <td>0</td>\n",
       "      <td>3.50</td>\n",
       "    </tr>\n",
       "    <tr>\n",
       "      <th>21</th>\n",
       "      <td>HOBBIES_1_022</td>\n",
       "      <td>CA_1</td>\n",
       "      <td>2</td>\n",
       "      <td>2011-01-29</td>\n",
       "      <td>6.86</td>\n",
       "      <td>0</td>\n",
       "      <td>13.72</td>\n",
       "    </tr>\n",
       "    <tr>\n",
       "      <th>...</th>\n",
       "      <td>...</td>\n",
       "      <td>...</td>\n",
       "      <td>...</td>\n",
       "      <td>...</td>\n",
       "      <td>...</td>\n",
       "      <td>...</td>\n",
       "      <td>...</td>\n",
       "    </tr>\n",
       "    <tr>\n",
       "      <th>46985082</th>\n",
       "      <td>FOODS_3_820</td>\n",
       "      <td>WI_3</td>\n",
       "      <td>6</td>\n",
       "      <td>2015-04-18</td>\n",
       "      <td>1.98</td>\n",
       "      <td>0</td>\n",
       "      <td>11.88</td>\n",
       "    </tr>\n",
       "    <tr>\n",
       "      <th>46985083</th>\n",
       "      <td>FOODS_3_821</td>\n",
       "      <td>WI_3</td>\n",
       "      <td>1</td>\n",
       "      <td>2015-04-18</td>\n",
       "      <td>4.98</td>\n",
       "      <td>0</td>\n",
       "      <td>4.98</td>\n",
       "    </tr>\n",
       "    <tr>\n",
       "      <th>46985084</th>\n",
       "      <td>FOODS_3_822</td>\n",
       "      <td>WI_3</td>\n",
       "      <td>1</td>\n",
       "      <td>2015-04-18</td>\n",
       "      <td>4.28</td>\n",
       "      <td>0</td>\n",
       "      <td>4.28</td>\n",
       "    </tr>\n",
       "    <tr>\n",
       "      <th>46985085</th>\n",
       "      <td>FOODS_3_823</td>\n",
       "      <td>WI_3</td>\n",
       "      <td>2</td>\n",
       "      <td>2015-04-18</td>\n",
       "      <td>2.88</td>\n",
       "      <td>0</td>\n",
       "      <td>5.76</td>\n",
       "    </tr>\n",
       "    <tr>\n",
       "      <th>46985089</th>\n",
       "      <td>FOODS_3_827</td>\n",
       "      <td>WI_3</td>\n",
       "      <td>3</td>\n",
       "      <td>2015-04-18</td>\n",
       "      <td>1.00</td>\n",
       "      <td>0</td>\n",
       "      <td>3.00</td>\n",
       "    </tr>\n",
       "  </tbody>\n",
       "</table>\n",
       "<p>13984705 rows × 7 columns</p>\n",
       "</div>"
      ],
      "text/plain": [
       "                item_id store_id  item_sales        date  sell_price   \n",
       "7         HOBBIES_1_008     CA_1          12  2011-01-29        0.46  \\\n",
       "8         HOBBIES_1_009     CA_1           2  2011-01-29        1.56   \n",
       "14        HOBBIES_1_015     CA_1           4  2011-01-29        0.70   \n",
       "15        HOBBIES_1_016     CA_1           5  2011-01-29        0.70   \n",
       "21        HOBBIES_1_022     CA_1           2  2011-01-29        6.86   \n",
       "...                 ...      ...         ...         ...         ...   \n",
       "46985082    FOODS_3_820     WI_3           6  2015-04-18        1.98   \n",
       "46985083    FOODS_3_821     WI_3           1  2015-04-18        4.98   \n",
       "46985084    FOODS_3_822     WI_3           1  2015-04-18        4.28   \n",
       "46985085    FOODS_3_823     WI_3           2  2015-04-18        2.88   \n",
       "46985089    FOODS_3_827     WI_3           3  2015-04-18        1.00   \n",
       "\n",
       "          is_event  revenue  \n",
       "7                0     5.52  \n",
       "8                0     3.12  \n",
       "14               0     2.80  \n",
       "15               0     3.50  \n",
       "21               0    13.72  \n",
       "...            ...      ...  \n",
       "46985082         0    11.88  \n",
       "46985083         0     4.98  \n",
       "46985084         0     4.28  \n",
       "46985085         0     5.76  \n",
       "46985089         0     3.00  \n",
       "\n",
       "[13984705 rows x 7 columns]"
      ]
     },
     "execution_count": 23,
     "metadata": {},
     "output_type": "execute_result"
    }
   ],
   "source": [
    "revenue_zero = df['revenue'] != 0\n",
    "df_cleaned = df[revenue_zero]\n",
    "df_cleaned\n",
    "# df_cleaned = df"
   ]
  },
  {
   "cell_type": "code",
   "execution_count": 24,
   "id": "dcf6d3a0",
   "metadata": {
    "tags": []
   },
   "outputs": [],
   "source": [
    "df_cleaned = df_cleaned[df_cleaned['revenue']<=800]"
   ]
  },
  {
   "cell_type": "code",
   "execution_count": 25,
   "id": "a97e018a",
   "metadata": {
    "tags": []
   },
   "outputs": [],
   "source": [
    "df_cleaned.reset_index(inplace=True)\n",
    "df_cleaned.drop('index', axis=1, inplace=True)"
   ]
  },
  {
   "cell_type": "code",
   "execution_count": 26,
   "id": "523e58c6",
   "metadata": {
    "tags": []
   },
   "outputs": [
    {
     "data": {
      "text/html": [
       "<div>\n",
       "<style scoped>\n",
       "    .dataframe tbody tr th:only-of-type {\n",
       "        vertical-align: middle;\n",
       "    }\n",
       "\n",
       "    .dataframe tbody tr th {\n",
       "        vertical-align: top;\n",
       "    }\n",
       "\n",
       "    .dataframe thead th {\n",
       "        text-align: right;\n",
       "    }\n",
       "</style>\n",
       "<table border=\"1\" class=\"dataframe\">\n",
       "  <thead>\n",
       "    <tr style=\"text-align: right;\">\n",
       "      <th></th>\n",
       "      <th>item_id</th>\n",
       "      <th>store_id</th>\n",
       "      <th>item_sales</th>\n",
       "      <th>date</th>\n",
       "      <th>sell_price</th>\n",
       "      <th>is_event</th>\n",
       "      <th>revenue</th>\n",
       "    </tr>\n",
       "  </thead>\n",
       "  <tbody>\n",
       "    <tr>\n",
       "      <th>0</th>\n",
       "      <td>HOBBIES_1_008</td>\n",
       "      <td>CA_1</td>\n",
       "      <td>12</td>\n",
       "      <td>2011-01-29</td>\n",
       "      <td>0.46</td>\n",
       "      <td>0</td>\n",
       "      <td>5.52</td>\n",
       "    </tr>\n",
       "    <tr>\n",
       "      <th>1</th>\n",
       "      <td>HOBBIES_1_009</td>\n",
       "      <td>CA_1</td>\n",
       "      <td>2</td>\n",
       "      <td>2011-01-29</td>\n",
       "      <td>1.56</td>\n",
       "      <td>0</td>\n",
       "      <td>3.12</td>\n",
       "    </tr>\n",
       "    <tr>\n",
       "      <th>2</th>\n",
       "      <td>HOBBIES_1_015</td>\n",
       "      <td>CA_1</td>\n",
       "      <td>4</td>\n",
       "      <td>2011-01-29</td>\n",
       "      <td>0.70</td>\n",
       "      <td>0</td>\n",
       "      <td>2.80</td>\n",
       "    </tr>\n",
       "    <tr>\n",
       "      <th>3</th>\n",
       "      <td>HOBBIES_1_016</td>\n",
       "      <td>CA_1</td>\n",
       "      <td>5</td>\n",
       "      <td>2011-01-29</td>\n",
       "      <td>0.70</td>\n",
       "      <td>0</td>\n",
       "      <td>3.50</td>\n",
       "    </tr>\n",
       "    <tr>\n",
       "      <th>4</th>\n",
       "      <td>HOBBIES_1_022</td>\n",
       "      <td>CA_1</td>\n",
       "      <td>2</td>\n",
       "      <td>2011-01-29</td>\n",
       "      <td>6.86</td>\n",
       "      <td>0</td>\n",
       "      <td>13.72</td>\n",
       "    </tr>\n",
       "    <tr>\n",
       "      <th>...</th>\n",
       "      <td>...</td>\n",
       "      <td>...</td>\n",
       "      <td>...</td>\n",
       "      <td>...</td>\n",
       "      <td>...</td>\n",
       "      <td>...</td>\n",
       "      <td>...</td>\n",
       "    </tr>\n",
       "    <tr>\n",
       "      <th>13984639</th>\n",
       "      <td>FOODS_3_820</td>\n",
       "      <td>WI_3</td>\n",
       "      <td>6</td>\n",
       "      <td>2015-04-18</td>\n",
       "      <td>1.98</td>\n",
       "      <td>0</td>\n",
       "      <td>11.88</td>\n",
       "    </tr>\n",
       "    <tr>\n",
       "      <th>13984640</th>\n",
       "      <td>FOODS_3_821</td>\n",
       "      <td>WI_3</td>\n",
       "      <td>1</td>\n",
       "      <td>2015-04-18</td>\n",
       "      <td>4.98</td>\n",
       "      <td>0</td>\n",
       "      <td>4.98</td>\n",
       "    </tr>\n",
       "    <tr>\n",
       "      <th>13984641</th>\n",
       "      <td>FOODS_3_822</td>\n",
       "      <td>WI_3</td>\n",
       "      <td>1</td>\n",
       "      <td>2015-04-18</td>\n",
       "      <td>4.28</td>\n",
       "      <td>0</td>\n",
       "      <td>4.28</td>\n",
       "    </tr>\n",
       "    <tr>\n",
       "      <th>13984642</th>\n",
       "      <td>FOODS_3_823</td>\n",
       "      <td>WI_3</td>\n",
       "      <td>2</td>\n",
       "      <td>2015-04-18</td>\n",
       "      <td>2.88</td>\n",
       "      <td>0</td>\n",
       "      <td>5.76</td>\n",
       "    </tr>\n",
       "    <tr>\n",
       "      <th>13984643</th>\n",
       "      <td>FOODS_3_827</td>\n",
       "      <td>WI_3</td>\n",
       "      <td>3</td>\n",
       "      <td>2015-04-18</td>\n",
       "      <td>1.00</td>\n",
       "      <td>0</td>\n",
       "      <td>3.00</td>\n",
       "    </tr>\n",
       "  </tbody>\n",
       "</table>\n",
       "<p>13984644 rows × 7 columns</p>\n",
       "</div>"
      ],
      "text/plain": [
       "                item_id store_id  item_sales        date  sell_price   \n",
       "0         HOBBIES_1_008     CA_1          12  2011-01-29        0.46  \\\n",
       "1         HOBBIES_1_009     CA_1           2  2011-01-29        1.56   \n",
       "2         HOBBIES_1_015     CA_1           4  2011-01-29        0.70   \n",
       "3         HOBBIES_1_016     CA_1           5  2011-01-29        0.70   \n",
       "4         HOBBIES_1_022     CA_1           2  2011-01-29        6.86   \n",
       "...                 ...      ...         ...         ...         ...   \n",
       "13984639    FOODS_3_820     WI_3           6  2015-04-18        1.98   \n",
       "13984640    FOODS_3_821     WI_3           1  2015-04-18        4.98   \n",
       "13984641    FOODS_3_822     WI_3           1  2015-04-18        4.28   \n",
       "13984642    FOODS_3_823     WI_3           2  2015-04-18        2.88   \n",
       "13984643    FOODS_3_827     WI_3           3  2015-04-18        1.00   \n",
       "\n",
       "          is_event  revenue  \n",
       "0                0     5.52  \n",
       "1                0     3.12  \n",
       "2                0     2.80  \n",
       "3                0     3.50  \n",
       "4                0    13.72  \n",
       "...            ...      ...  \n",
       "13984639         0    11.88  \n",
       "13984640         0     4.98  \n",
       "13984641         0     4.28  \n",
       "13984642         0     5.76  \n",
       "13984643         0     3.00  \n",
       "\n",
       "[13984644 rows x 7 columns]"
      ]
     },
     "execution_count": 26,
     "metadata": {},
     "output_type": "execute_result"
    }
   ],
   "source": [
    "df_cleaned"
   ]
  },
  {
   "cell_type": "code",
   "execution_count": 27,
   "id": "2c72c8a6",
   "metadata": {
    "tags": []
   },
   "outputs": [
    {
     "name": "stdout",
     "output_type": "stream",
     "text": [
      "<class 'pandas.core.frame.DataFrame'>\n",
      "RangeIndex: 13984644 entries, 0 to 13984643\n",
      "Data columns (total 7 columns):\n",
      " #   Column      Dtype         \n",
      "---  ------      -----         \n",
      " 0   item_id     object        \n",
      " 1   store_id    object        \n",
      " 2   item_sales  int64         \n",
      " 3   date        datetime64[ns]\n",
      " 4   sell_price  float64       \n",
      " 5   is_event    int64         \n",
      " 6   revenue     float64       \n",
      "dtypes: datetime64[ns](1), float64(2), int64(2), object(2)\n",
      "memory usage: 746.9+ MB\n"
     ]
    }
   ],
   "source": [
    "df_cleaned['date'] = pd.to_datetime(df_cleaned['date'])\n",
    "df_cleaned.info()"
   ]
  },
  {
   "cell_type": "code",
   "execution_count": 28,
   "id": "70d7d2c6",
   "metadata": {
    "tags": []
   },
   "outputs": [],
   "source": [
    "# Extract the year, month, day and day of the week into new columns\n",
    "df_cleaned['year'] = df_cleaned['date'].dt.year\n",
    "df_cleaned['month'] = df_cleaned['date'].dt.month\n",
    "df_cleaned['day'] = df_cleaned['date'].dt.day\n",
    "df_cleaned['day_of_week'] = df_cleaned['date'].dt.strftime('%A')"
   ]
  },
  {
   "cell_type": "code",
   "execution_count": 29,
   "id": "80a74f01",
   "metadata": {
    "tags": []
   },
   "outputs": [],
   "source": [
    "col_list=['item_id','store_id','year','month','day','day_of_week','revenue']\n",
    "final_df = df_cleaned[col_list]"
   ]
  },
  {
   "cell_type": "code",
   "execution_count": 30,
   "id": "f9c5f473",
   "metadata": {
    "scrolled": true,
    "tags": []
   },
   "outputs": [
    {
     "data": {
      "text/plain": [
       "(13984644, 8)"
      ]
     },
     "execution_count": 30,
     "metadata": {},
     "output_type": "execute_result"
    }
   ],
   "source": [
    "final_df.shape"
   ]
  },
  {
   "cell_type": "code",
   "execution_count": 31,
   "id": "6fc86f2f",
   "metadata": {
    "tags": []
   },
   "outputs": [
    {
     "data": {
      "text/html": [
       "<div>\n",
       "<style scoped>\n",
       "    .dataframe tbody tr th:only-of-type {\n",
       "        vertical-align: middle;\n",
       "    }\n",
       "\n",
       "    .dataframe tbody tr th {\n",
       "        vertical-align: top;\n",
       "    }\n",
       "\n",
       "    .dataframe thead th {\n",
       "        text-align: right;\n",
       "    }\n",
       "</style>\n",
       "<table border=\"1\" class=\"dataframe\">\n",
       "  <thead>\n",
       "    <tr style=\"text-align: right;\">\n",
       "      <th></th>\n",
       "      <th>item_id</th>\n",
       "      <th>store_id</th>\n",
       "      <th>year</th>\n",
       "      <th>month</th>\n",
       "      <th>day_of_month</th>\n",
       "      <th>day_of_week</th>\n",
       "      <th>is_event</th>\n",
       "      <th>revenue</th>\n",
       "    </tr>\n",
       "  </thead>\n",
       "  <tbody>\n",
       "    <tr>\n",
       "      <th>0</th>\n",
       "      <td>HOBBIES_1_008</td>\n",
       "      <td>CA_1</td>\n",
       "      <td>2011</td>\n",
       "      <td>1</td>\n",
       "      <td>29</td>\n",
       "      <td>Saturday</td>\n",
       "      <td>0</td>\n",
       "      <td>5.52</td>\n",
       "    </tr>\n",
       "    <tr>\n",
       "      <th>1</th>\n",
       "      <td>HOBBIES_1_009</td>\n",
       "      <td>CA_1</td>\n",
       "      <td>2011</td>\n",
       "      <td>1</td>\n",
       "      <td>29</td>\n",
       "      <td>Saturday</td>\n",
       "      <td>0</td>\n",
       "      <td>3.12</td>\n",
       "    </tr>\n",
       "    <tr>\n",
       "      <th>2</th>\n",
       "      <td>HOBBIES_1_015</td>\n",
       "      <td>CA_1</td>\n",
       "      <td>2011</td>\n",
       "      <td>1</td>\n",
       "      <td>29</td>\n",
       "      <td>Saturday</td>\n",
       "      <td>0</td>\n",
       "      <td>2.80</td>\n",
       "    </tr>\n",
       "    <tr>\n",
       "      <th>3</th>\n",
       "      <td>HOBBIES_1_016</td>\n",
       "      <td>CA_1</td>\n",
       "      <td>2011</td>\n",
       "      <td>1</td>\n",
       "      <td>29</td>\n",
       "      <td>Saturday</td>\n",
       "      <td>0</td>\n",
       "      <td>3.50</td>\n",
       "    </tr>\n",
       "    <tr>\n",
       "      <th>4</th>\n",
       "      <td>HOBBIES_1_022</td>\n",
       "      <td>CA_1</td>\n",
       "      <td>2011</td>\n",
       "      <td>1</td>\n",
       "      <td>29</td>\n",
       "      <td>Saturday</td>\n",
       "      <td>0</td>\n",
       "      <td>13.72</td>\n",
       "    </tr>\n",
       "    <tr>\n",
       "      <th>...</th>\n",
       "      <td>...</td>\n",
       "      <td>...</td>\n",
       "      <td>...</td>\n",
       "      <td>...</td>\n",
       "      <td>...</td>\n",
       "      <td>...</td>\n",
       "      <td>...</td>\n",
       "      <td>...</td>\n",
       "    </tr>\n",
       "    <tr>\n",
       "      <th>13984639</th>\n",
       "      <td>FOODS_3_820</td>\n",
       "      <td>WI_3</td>\n",
       "      <td>2015</td>\n",
       "      <td>4</td>\n",
       "      <td>18</td>\n",
       "      <td>Saturday</td>\n",
       "      <td>0</td>\n",
       "      <td>11.88</td>\n",
       "    </tr>\n",
       "    <tr>\n",
       "      <th>13984640</th>\n",
       "      <td>FOODS_3_821</td>\n",
       "      <td>WI_3</td>\n",
       "      <td>2015</td>\n",
       "      <td>4</td>\n",
       "      <td>18</td>\n",
       "      <td>Saturday</td>\n",
       "      <td>0</td>\n",
       "      <td>4.98</td>\n",
       "    </tr>\n",
       "    <tr>\n",
       "      <th>13984641</th>\n",
       "      <td>FOODS_3_822</td>\n",
       "      <td>WI_3</td>\n",
       "      <td>2015</td>\n",
       "      <td>4</td>\n",
       "      <td>18</td>\n",
       "      <td>Saturday</td>\n",
       "      <td>0</td>\n",
       "      <td>4.28</td>\n",
       "    </tr>\n",
       "    <tr>\n",
       "      <th>13984642</th>\n",
       "      <td>FOODS_3_823</td>\n",
       "      <td>WI_3</td>\n",
       "      <td>2015</td>\n",
       "      <td>4</td>\n",
       "      <td>18</td>\n",
       "      <td>Saturday</td>\n",
       "      <td>0</td>\n",
       "      <td>5.76</td>\n",
       "    </tr>\n",
       "    <tr>\n",
       "      <th>13984643</th>\n",
       "      <td>FOODS_3_827</td>\n",
       "      <td>WI_3</td>\n",
       "      <td>2015</td>\n",
       "      <td>4</td>\n",
       "      <td>18</td>\n",
       "      <td>Saturday</td>\n",
       "      <td>0</td>\n",
       "      <td>3.00</td>\n",
       "    </tr>\n",
       "  </tbody>\n",
       "</table>\n",
       "<p>13984644 rows × 8 columns</p>\n",
       "</div>"
      ],
      "text/plain": [
       "                item_id store_id  year  month  day_of_month day_of_week   \n",
       "0         HOBBIES_1_008     CA_1  2011      1            29    Saturday  \\\n",
       "1         HOBBIES_1_009     CA_1  2011      1            29    Saturday   \n",
       "2         HOBBIES_1_015     CA_1  2011      1            29    Saturday   \n",
       "3         HOBBIES_1_016     CA_1  2011      1            29    Saturday   \n",
       "4         HOBBIES_1_022     CA_1  2011      1            29    Saturday   \n",
       "...                 ...      ...   ...    ...           ...         ...   \n",
       "13984639    FOODS_3_820     WI_3  2015      4            18    Saturday   \n",
       "13984640    FOODS_3_821     WI_3  2015      4            18    Saturday   \n",
       "13984641    FOODS_3_822     WI_3  2015      4            18    Saturday   \n",
       "13984642    FOODS_3_823     WI_3  2015      4            18    Saturday   \n",
       "13984643    FOODS_3_827     WI_3  2015      4            18    Saturday   \n",
       "\n",
       "          is_event  revenue  \n",
       "0                0     5.52  \n",
       "1                0     3.12  \n",
       "2                0     2.80  \n",
       "3                0     3.50  \n",
       "4                0    13.72  \n",
       "...            ...      ...  \n",
       "13984639         0    11.88  \n",
       "13984640         0     4.98  \n",
       "13984641         0     4.28  \n",
       "13984642         0     5.76  \n",
       "13984643         0     3.00  \n",
       "\n",
       "[13984644 rows x 8 columns]"
      ]
     },
     "execution_count": 31,
     "metadata": {},
     "output_type": "execute_result"
    }
   ],
   "source": [
    "final_df"
   ]
  },
  {
   "cell_type": "markdown",
   "id": "31ec28a3",
   "metadata": {},
   "source": [
    "## Sampling"
   ]
  },
  {
   "cell_type": "code",
   "execution_count": 32,
   "id": "30fc4c4b",
   "metadata": {
    "tags": []
   },
   "outputs": [],
   "source": [
    "from sklearn.model_selection import train_test_split\n",
    "\n",
    "# Specify the features (X) and target variable (y)\n",
    "X = final_df[['item_id', 'store_id', 'year', 'month', 'day', 'day_of_week']]\n",
    "y = final_df['revenue']\n",
    "\n",
    "# Split the data into a 20% stratified sample\n",
    "X_train, X_sample, y_train, y_sample = train_test_split(\n",
    "    X, y, test_size=0.40, stratify=final_df[['day_of_week', 'month']], random_state=42\n",
    ")\n",
    "\n",
    "# The resulting X_sample and y_sample contain 20% of the data with stratification\n",
    "# Create a new DataFrame 'final_df_sample' by concatenating 'X_sample' and 'y_sample'\n",
    "final_df_sample = pd.concat([X_sample, y_sample], axis=1)"
   ]
  },
  {
   "cell_type": "code",
   "execution_count": 33,
   "id": "5a84c2f1",
   "metadata": {
    "tags": []
   },
   "outputs": [],
   "source": [
    "final_df_sample.reset_index(inplace=True)"
   ]
  },
  {
   "cell_type": "code",
   "execution_count": 34,
   "id": "146b4075",
   "metadata": {
    "tags": []
   },
   "outputs": [],
   "source": [
    "final_df = final_df_sample.copy()"
   ]
  },
  {
   "cell_type": "code",
   "execution_count": 35,
   "id": "5628db5e",
   "metadata": {
    "tags": []
   },
   "outputs": [],
   "source": [
    "final_df.drop('index', axis=1, inplace=True)"
   ]
  },
  {
   "cell_type": "code",
   "execution_count": 36,
   "id": "06c5607d-0f57-48cd-9f6d-ec0e626b8223",
   "metadata": {
    "tags": []
   },
   "outputs": [
    {
     "data": {
      "text/html": [
       "<div>\n",
       "<style scoped>\n",
       "    .dataframe tbody tr th:only-of-type {\n",
       "        vertical-align: middle;\n",
       "    }\n",
       "\n",
       "    .dataframe tbody tr th {\n",
       "        vertical-align: top;\n",
       "    }\n",
       "\n",
       "    .dataframe thead th {\n",
       "        text-align: right;\n",
       "    }\n",
       "</style>\n",
       "<table border=\"1\" class=\"dataframe\">\n",
       "  <thead>\n",
       "    <tr style=\"text-align: right;\">\n",
       "      <th></th>\n",
       "      <th>item_id</th>\n",
       "      <th>store_id</th>\n",
       "      <th>year</th>\n",
       "      <th>month</th>\n",
       "      <th>day_of_month</th>\n",
       "      <th>day_of_week</th>\n",
       "      <th>is_event</th>\n",
       "      <th>revenue</th>\n",
       "    </tr>\n",
       "  </thead>\n",
       "  <tbody>\n",
       "    <tr>\n",
       "      <th>0</th>\n",
       "      <td>FOODS_3_757</td>\n",
       "      <td>CA_3</td>\n",
       "      <td>2014</td>\n",
       "      <td>8</td>\n",
       "      <td>10</td>\n",
       "      <td>Sunday</td>\n",
       "      <td>0</td>\n",
       "      <td>37.20</td>\n",
       "    </tr>\n",
       "    <tr>\n",
       "      <th>1</th>\n",
       "      <td>HOUSEHOLD_1_431</td>\n",
       "      <td>TX_3</td>\n",
       "      <td>2013</td>\n",
       "      <td>7</td>\n",
       "      <td>31</td>\n",
       "      <td>Wednesday</td>\n",
       "      <td>0</td>\n",
       "      <td>34.85</td>\n",
       "    </tr>\n",
       "    <tr>\n",
       "      <th>2</th>\n",
       "      <td>HOUSEHOLD_1_478</td>\n",
       "      <td>CA_1</td>\n",
       "      <td>2015</td>\n",
       "      <td>2</td>\n",
       "      <td>23</td>\n",
       "      <td>Monday</td>\n",
       "      <td>0</td>\n",
       "      <td>5.34</td>\n",
       "    </tr>\n",
       "    <tr>\n",
       "      <th>3</th>\n",
       "      <td>FOODS_3_503</td>\n",
       "      <td>CA_1</td>\n",
       "      <td>2013</td>\n",
       "      <td>8</td>\n",
       "      <td>16</td>\n",
       "      <td>Friday</td>\n",
       "      <td>0</td>\n",
       "      <td>24.80</td>\n",
       "    </tr>\n",
       "    <tr>\n",
       "      <th>4</th>\n",
       "      <td>FOODS_1_054</td>\n",
       "      <td>WI_2</td>\n",
       "      <td>2014</td>\n",
       "      <td>11</td>\n",
       "      <td>27</td>\n",
       "      <td>Thursday</td>\n",
       "      <td>1</td>\n",
       "      <td>1.98</td>\n",
       "    </tr>\n",
       "    <tr>\n",
       "      <th>...</th>\n",
       "      <td>...</td>\n",
       "      <td>...</td>\n",
       "      <td>...</td>\n",
       "      <td>...</td>\n",
       "      <td>...</td>\n",
       "      <td>...</td>\n",
       "      <td>...</td>\n",
       "      <td>...</td>\n",
       "    </tr>\n",
       "    <tr>\n",
       "      <th>5593853</th>\n",
       "      <td>FOODS_3_804</td>\n",
       "      <td>TX_2</td>\n",
       "      <td>2014</td>\n",
       "      <td>8</td>\n",
       "      <td>22</td>\n",
       "      <td>Friday</td>\n",
       "      <td>0</td>\n",
       "      <td>35.72</td>\n",
       "    </tr>\n",
       "    <tr>\n",
       "      <th>5593854</th>\n",
       "      <td>HOBBIES_1_394</td>\n",
       "      <td>WI_3</td>\n",
       "      <td>2013</td>\n",
       "      <td>10</td>\n",
       "      <td>5</td>\n",
       "      <td>Saturday</td>\n",
       "      <td>0</td>\n",
       "      <td>15.56</td>\n",
       "    </tr>\n",
       "    <tr>\n",
       "      <th>5593855</th>\n",
       "      <td>FOODS_3_807</td>\n",
       "      <td>WI_2</td>\n",
       "      <td>2012</td>\n",
       "      <td>6</td>\n",
       "      <td>25</td>\n",
       "      <td>Monday</td>\n",
       "      <td>0</td>\n",
       "      <td>7.92</td>\n",
       "    </tr>\n",
       "    <tr>\n",
       "      <th>5593856</th>\n",
       "      <td>FOODS_3_080</td>\n",
       "      <td>TX_1</td>\n",
       "      <td>2012</td>\n",
       "      <td>7</td>\n",
       "      <td>14</td>\n",
       "      <td>Saturday</td>\n",
       "      <td>0</td>\n",
       "      <td>23.70</td>\n",
       "    </tr>\n",
       "    <tr>\n",
       "      <th>5593857</th>\n",
       "      <td>FOODS_3_109</td>\n",
       "      <td>TX_2</td>\n",
       "      <td>2014</td>\n",
       "      <td>11</td>\n",
       "      <td>20</td>\n",
       "      <td>Thursday</td>\n",
       "      <td>0</td>\n",
       "      <td>2.00</td>\n",
       "    </tr>\n",
       "  </tbody>\n",
       "</table>\n",
       "<p>5593858 rows × 8 columns</p>\n",
       "</div>"
      ],
      "text/plain": [
       "                 item_id store_id  year  month  day_of_month day_of_week   \n",
       "0            FOODS_3_757     CA_3  2014      8            10      Sunday  \\\n",
       "1        HOUSEHOLD_1_431     TX_3  2013      7            31   Wednesday   \n",
       "2        HOUSEHOLD_1_478     CA_1  2015      2            23      Monday   \n",
       "3            FOODS_3_503     CA_1  2013      8            16      Friday   \n",
       "4            FOODS_1_054     WI_2  2014     11            27    Thursday   \n",
       "...                  ...      ...   ...    ...           ...         ...   \n",
       "5593853      FOODS_3_804     TX_2  2014      8            22      Friday   \n",
       "5593854    HOBBIES_1_394     WI_3  2013     10             5    Saturday   \n",
       "5593855      FOODS_3_807     WI_2  2012      6            25      Monday   \n",
       "5593856      FOODS_3_080     TX_1  2012      7            14    Saturday   \n",
       "5593857      FOODS_3_109     TX_2  2014     11            20    Thursday   \n",
       "\n",
       "         is_event  revenue  \n",
       "0               0    37.20  \n",
       "1               0    34.85  \n",
       "2               0     5.34  \n",
       "3               0    24.80  \n",
       "4               1     1.98  \n",
       "...           ...      ...  \n",
       "5593853         0    35.72  \n",
       "5593854         0    15.56  \n",
       "5593855         0     7.92  \n",
       "5593856         0    23.70  \n",
       "5593857         0     2.00  \n",
       "\n",
       "[5593858 rows x 8 columns]"
      ]
     },
     "execution_count": 36,
     "metadata": {},
     "output_type": "execute_result"
    }
   ],
   "source": [
    "final_df"
   ]
  },
  {
   "cell_type": "code",
   "execution_count": 37,
   "id": "dce34bc5",
   "metadata": {},
   "outputs": [],
   "source": [
    "# 14023073*100/47107050\n",
    "# 13984644*100/47107050\n",
    "# 2796929*100/13984644"
   ]
  },
  {
   "cell_type": "markdown",
   "id": "47bbd13b-c026-4ac5-8364-69a0f784f03f",
   "metadata": {},
   "source": [
    "## Train Validation split"
   ]
  },
  {
   "cell_type": "code",
   "execution_count": null,
   "id": "04a8d22a",
   "metadata": {
    "tags": []
   },
   "outputs": [],
   "source": [
    "from sklearn.model_selection import train_test_split\n",
    "from sklearn.metrics import mean_squared_error, r2_score\n",
    "\n",
    "# Specify your features and target variable\n",
    "X = final_df.drop(columns=['revenue'])\n",
    "y = final_df['revenue']\n",
    "\n",
    "# Split the data into training and testing sets\n",
    "X_train, X_val, y_train, y_val = train_test_split(X, y, test_size=0.2, random_state=42)"
   ]
  },
  {
   "cell_type": "code",
   "execution_count": null,
   "id": "116b7d2f-ba91-4fb1-a084-723480bf2d03",
   "metadata": {
    "tags": []
   },
   "outputs": [],
   "source": [
    "X_train"
   ]
  },
  {
   "cell_type": "code",
   "execution_count": null,
   "id": "7ab0720b-7ffb-412f-a4ae-e729e6e641bf",
   "metadata": {
    "tags": []
   },
   "outputs": [],
   "source": [
    "pd.DataFrame(y_train)"
   ]
  },
  {
   "cell_type": "code",
   "execution_count": null,
   "id": "2978e545-9516-4a61-90f7-9631fc50e5f4",
   "metadata": {
    "tags": []
   },
   "outputs": [],
   "source": [
    "X_val"
   ]
  },
  {
   "cell_type": "code",
   "execution_count": null,
   "id": "24559a6d-e7ef-4bf0-bd92-07c83f4828a3",
   "metadata": {
    "tags": []
   },
   "outputs": [],
   "source": [
    "pd.DataFrame(y_val)"
   ]
  },
  {
   "cell_type": "markdown",
   "id": "1920870b",
   "metadata": {},
   "source": [
    "## Pipeline"
   ]
  },
  {
   "cell_type": "code",
   "execution_count": 43,
   "id": "6e3dc3dd",
   "metadata": {
    "tags": []
   },
   "outputs": [],
   "source": [
    "# Import Pipeline from sklearn.pipeline, StandardScaler, OrdinalEncoder and OneHotEncoder \n",
    "# from sklearn.preprocessing and SGDClassifier from sklearn.linear_model\n",
    "from sklearn.pipeline import Pipeline\n",
    "from sklearn.preprocessing import StandardScaler, OneHotEncoder, OrdinalEncoder\n",
    "from sklearn.linear_model import SGDRegressor\n",
    "from xgboost import XGBRegressor\n",
    "from sklearn.ensemble import RandomForestRegressor\n",
    "from sklearn.ensemble import GradientBoostingRegressor"
   ]
  },
  {
   "cell_type": "code",
   "execution_count": 45,
   "id": "8ec1e0db",
   "metadata": {
    "tags": []
   },
   "outputs": [],
   "source": [
    "cat_transformer = Pipeline(steps=[('one_hot_encoder', OneHotEncoder(sparse=False, drop='first'))])"
   ]
  },
  {
   "cell_type": "code",
   "execution_count": 46,
   "id": "dd35ab69",
   "metadata": {
    "tags": []
   },
   "outputs": [],
   "source": [
    "target_transformer = Pipeline(steps=[('target_encoder', TargetEncoder(handle_unknown='value'))])"
   ]
  },
  {
   "cell_type": "code",
   "execution_count": 51,
   "id": "ec7b411d",
   "metadata": {
    "tags": []
   },
   "outputs": [],
   "source": [
    "from sklearn.compose import ColumnTransformer\n",
    "preprocessor = ColumnTransformer(\n",
    "    transformers=[\n",
    "        ('cat_cols', cat_transformer, ['store_id','year','month','day_of_week']),\n",
    "        ('ord_col', target_transformer, ['item_id','day'])\n",
    "    ]\n",
    ")"
   ]
  },
  {
   "cell_type": "markdown",
   "id": "266cea59-c0ef-4d0f-96a0-09021a8e6e24",
   "metadata": {},
   "source": [
    "## LGBMRegressor"
   ]
  },
  {
   "cell_type": "code",
   "execution_count": 52,
   "id": "234715f1-606a-4ab5-a827-2015611ac822",
   "metadata": {
    "tags": []
   },
   "outputs": [],
   "source": [
    "import lightgbm as lgb\n",
    "lgb_pipe = Pipeline(\n",
    "    steps=[\n",
    "        ('preprocessor', preprocessor),\n",
    "        ('svr', lgb.LGBMRegressor())\n",
    "    ]\n",
    ")"
   ]
  },
  {
   "cell_type": "code",
   "execution_count": 53,
   "id": "bff97dd5-4de6-4226-9538-8859c85970ec",
   "metadata": {
    "tags": []
   },
   "outputs": [
    {
     "name": "stdout",
     "output_type": "stream",
     "text": [
      "[LightGBM] [Info] Auto-choosing row-wise multi-threading, the overhead of testing was 0.023750 seconds.\n",
      "You can set `force_row_wise=true` to remove the overhead.\n",
      "And if memory is not enough, you can set `force_col_wise=true`.\n",
      "[LightGBM] [Info] Total Bins 349\n",
      "[LightGBM] [Info] Number of data points in the train set: 4475086, number of used features: 33\n",
      "[LightGBM] [Info] Start training from score 10.177577\n"
     ]
    }
   ],
   "source": [
    "lgb_predictive_model = lgb_pipe.fit(X_train, y_train)"
   ]
  },
  {
   "cell_type": "code",
   "execution_count": 54,
   "id": "b00a6499-dbe3-4da0-a592-9b67421dfb40",
   "metadata": {},
   "outputs": [
    {
     "data": {
      "text/plain": [
       "['../../models/predictive/light_gradient_boost.joblib']"
      ]
     },
     "execution_count": 54,
     "metadata": {},
     "output_type": "execute_result"
    }
   ],
   "source": [
    "dump(lgb_predictive_model, '../../models/predictive/light_gradient_boost.joblib')"
   ]
  },
  {
   "cell_type": "code",
   "execution_count": 55,
   "id": "a6253c15-84df-435c-8e47-cdf3dc40e008",
   "metadata": {
    "tags": []
   },
   "outputs": [],
   "source": [
    "lgb_y_pred_train = lgb_pipe.predict(X_train)"
   ]
  },
  {
   "cell_type": "code",
   "execution_count": 56,
   "id": "703031e4-af99-4aa3-9007-8863394fe98e",
   "metadata": {
    "tags": []
   },
   "outputs": [],
   "source": [
    "lgb_y_pred_val = lgb_pipe.predict(X_val)"
   ]
  },
  {
   "cell_type": "code",
   "execution_count": 57,
   "id": "1c6c36b2-1eb5-45a5-aeed-d14ec0829958",
   "metadata": {
    "tags": []
   },
   "outputs": [
    {
     "data": {
      "text/plain": [
       "array([10.91503028,  9.96798364, 13.213051  , ..., 18.12128494,\n",
       "        3.82265418,  4.50668277])"
      ]
     },
     "execution_count": 57,
     "metadata": {},
     "output_type": "execute_result"
    }
   ],
   "source": [
    "lgb_y_pred_val"
   ]
  },
  {
   "cell_type": "code",
   "execution_count": 58,
   "id": "a1bb98c7-4c9a-45b5-9c88-f7c25213a1c9",
   "metadata": {
    "tags": []
   },
   "outputs": [],
   "source": [
    "# Evaluate the model\n",
    "train_rmse = np.sqrt(mean_squared_error(y_train, lgb_y_pred_train))\n",
    "val_rmse = np.sqrt(mean_squared_error(y_val, lgb_y_pred_val))\n",
    "r2 = r2_score(y_test, lgb_y_pred_val)"
   ]
  },
  {
   "cell_type": "code",
   "execution_count": 59,
   "id": "ef2ee66f-d651-4c3b-8d08-e51b1bbfae8a",
   "metadata": {
    "tags": []
   },
   "outputs": [
    {
     "name": "stdout",
     "output_type": "stream",
     "text": [
      "Random Forest Regression - Root Mean Squared Error: 9.787670586026604\n",
      "Random Forest Regression - Mean Squared Error: 95.79849550057035\n",
      "Random Forest Regression - R-squared: 0.5300832019748577\n"
     ]
    }
   ],
   "source": [
    "print(f\"Light Gradient Boost Regression - Root Mean Squared Error - Training: {train_rmse}\")\n",
    "print(f\"Light Gradient Boost Regression - Root Mean Squared Error - Validation: {val_rmse}\")"
   ]
  },
  {
   "cell_type": "code",
   "execution_count": 60,
   "id": "bcd08117-8cc6-42fd-a0ec-849b287ddaff",
   "metadata": {
    "tags": []
   },
   "outputs": [
    {
     "data": {
      "image/png": "[encoded data removed]",
      "text/plain": [
       "<Figure size 800x600 with 1 Axes>"
      ]
     },
     "metadata": {},
     "output_type": "display_data"
    }
   ],
   "source": [
    "# Create a scatter plot\n",
    "plt.figure(figsize=(8, 6))\n",
    "plt.scatter(y_val, lgb_y_pred_val, c='blue', marker='o', alpha=0.5)\n",
    "plt.xlabel('Actual Values')\n",
    "plt.ylabel('Predicted Values')\n",
    "plt.title('Actual vs. Predicted Values')\n",
    "\n",
    "plt.plot([min(y_val), max(y_val)], [min(y_val), max(y_val)], color='red', linestyle='--', linewidth=2)\n",
    "\n",
    "plt.grid(True)\n",
    "plt.show()"
   ]
  },
  {
   "cell_type": "markdown",
   "id": "2eed5fde",
   "metadata": {},
   "source": [
    "### SGDRegressor"
   ]
  },
  {
   "cell_type": "code",
   "execution_count": 61,
   "id": "7e0f39a8",
   "metadata": {
    "tags": []
   },
   "outputs": [],
   "source": [
    "sgd_pipe = Pipeline(\n",
    "    steps=[\n",
    "        ('preprocessor', preprocessor),\n",
    "        ('sgd', SGDRegressor(random_state=42))\n",
    "    ]\n",
    ")"
   ]
  },
  {
   "cell_type": "code",
   "execution_count": 62,
   "id": "96c89253",
   "metadata": {
    "tags": []
   },
   "outputs": [
    {
     "data": {
      "text/html": [
       "<style>#sk-container-id-1 {color: black;background-color: white;}#sk-container-id-1 pre{padding: 0;}#sk-container-id-1 div.sk-toggleable {background-color: white;}#sk-container-id-1 label.sk-toggleable__label {cursor: pointer;display: block;width: 100%;margin-bottom: 0;padding: 0.3em;box-sizing: border-box;text-align: center;}#sk-container-id-1 label.sk-toggleable__label-arrow:before {content: \"▸\";float: left;margin-right: 0.25em;color: #696969;}#sk-container-id-1 label.sk-toggleable__label-arrow:hover:before {color: black;}#sk-container-id-1 div.sk-estimator:hover label.sk-toggleable__label-arrow:before {color: black;}#sk-container-id-1 div.sk-toggleable__content {max-height: 0;max-width: 0;overflow: hidden;text-align: left;background-color: #f0f8ff;}#sk-container-id-1 div.sk-toggleable__content pre {margin: 0.2em;color: black;border-radius: 0.25em;background-color: #f0f8ff;}#sk-container-id-1 input.sk-toggleable__control:checked~div.sk-toggleable__content {max-height: 200px;max-width: 100%;overflow: auto;}#sk-container-id-1 input.sk-toggleable__control:checked~label.sk-toggleable__label-arrow:before {content: \"▾\";}#sk-container-id-1 div.sk-estimator input.sk-toggleable__control:checked~label.sk-toggleable__label {background-color: #d4ebff;}#sk-container-id-1 div.sk-label input.sk-toggleable__control:checked~label.sk-toggleable__label {background-color: #d4ebff;}#sk-container-id-1 input.sk-hidden--visually {border: 0;clip: rect(1px 1px 1px 1px);clip: rect(1px, 1px, 1px, 1px);height: 1px;margin: -1px;overflow: hidden;padding: 0;position: absolute;width: 1px;}#sk-container-id-1 div.sk-estimator {font-family: monospace;background-color: #f0f8ff;border: 1px dotted black;border-radius: 0.25em;box-sizing: border-box;margin-bottom: 0.5em;}#sk-container-id-1 div.sk-estimator:hover {background-color: #d4ebff;}#sk-container-id-1 div.sk-parallel-item::after {content: \"\";width: 100%;border-bottom: 1px solid gray;flex-grow: 1;}#sk-container-id-1 div.sk-label:hover label.sk-toggleable__label {background-color: #d4ebff;}#sk-container-id-1 div.sk-serial::before {content: \"\";position: absolute;border-left: 1px solid gray;box-sizing: border-box;top: 0;bottom: 0;left: 50%;z-index: 0;}#sk-container-id-1 div.sk-serial {display: flex;flex-direction: column;align-items: center;background-color: white;padding-right: 0.2em;padding-left: 0.2em;position: relative;}#sk-container-id-1 div.sk-item {position: relative;z-index: 1;}#sk-container-id-1 div.sk-parallel {display: flex;align-items: stretch;justify-content: center;background-color: white;position: relative;}#sk-container-id-1 div.sk-item::before, #sk-container-id-1 div.sk-parallel-item::before {content: \"\";position: absolute;border-left: 1px solid gray;box-sizing: border-box;top: 0;bottom: 0;left: 50%;z-index: -1;}#sk-container-id-1 div.sk-parallel-item {display: flex;flex-direction: column;z-index: 1;position: relative;background-color: white;}#sk-container-id-1 div.sk-parallel-item:first-child::after {align-self: flex-end;width: 50%;}#sk-container-id-1 div.sk-parallel-item:last-child::after {align-self: flex-start;width: 50%;}#sk-container-id-1 div.sk-parallel-item:only-child::after {width: 0;}#sk-container-id-1 div.sk-dashed-wrapped {border: 1px dashed gray;margin: 0 0.4em 0.5em 0.4em;box-sizing: border-box;padding-bottom: 0.4em;background-color: white;}#sk-container-id-1 div.sk-label label {font-family: monospace;font-weight: bold;display: inline-block;line-height: 1.2em;}#sk-container-id-1 div.sk-label-container {text-align: center;}#sk-container-id-1 div.sk-container {/* jupyter's `normalize.less` sets `[hidden] { display: none; }` but bootstrap.min.css set `[hidden] { display: none !important; }` so we also need the `!important` here to be able to override the default hidden behavior on the sphinx rendered scikit-learn.org. See: https://github.com/scikit-learn/scikit-learn/issues/21755 */display: inline-block !important;position: relative;}#sk-container-id-1 div.sk-text-repr-fallback {display: none;}</style><div id=\"sk-container-id-1\" class=\"sk-top-container\"><div class=\"sk-text-repr-fallback\"><pre>Pipeline(steps=[(&#x27;preprocessor&#x27;,\n",
       "                 ColumnTransformer(transformers=[(&#x27;cat_cols&#x27;,\n",
       "                                                  Pipeline(steps=[(&#x27;one_hot_encoder&#x27;,\n",
       "                                                                   OneHotEncoder(drop=&#x27;first&#x27;,\n",
       "                                                                                 sparse=False))]),\n",
       "                                                  [&#x27;store_id&#x27;, &#x27;year&#x27;, &#x27;month&#x27;,\n",
       "                                                   &#x27;day_of_week&#x27;, &#x27;is_event&#x27;]),\n",
       "                                                 (&#x27;ord_col&#x27;,\n",
       "                                                  Pipeline(steps=[(&#x27;target_encoder&#x27;,\n",
       "                                                                   TargetEncoder())]),\n",
       "                                                  [&#x27;item_id&#x27;,\n",
       "                                                   &#x27;day_of_month&#x27;])])),\n",
       "                (&#x27;sgd&#x27;, SGDRegressor(random_state=42))])</pre><b>In a Jupyter environment, please rerun this cell to show the HTML representation or trust the notebook. <br />On GitHub, the HTML representation is unable to render, please try loading this page with nbviewer.org.</b></div><div class=\"sk-container\" hidden><div class=\"sk-item sk-dashed-wrapped\"><div class=\"sk-label-container\"><div class=\"sk-label sk-toggleable\"><input class=\"sk-toggleable__control sk-hidden--visually\" id=\"sk-estimator-id-1\" type=\"checkbox\" ><label for=\"sk-estimator-id-1\" class=\"sk-toggleable__label sk-toggleable__label-arrow\">Pipeline</label><div class=\"sk-toggleable__content\"><pre>Pipeline(steps=[(&#x27;preprocessor&#x27;,\n",
       "                 ColumnTransformer(transformers=[(&#x27;cat_cols&#x27;,\n",
       "                                                  Pipeline(steps=[(&#x27;one_hot_encoder&#x27;,\n",
       "                                                                   OneHotEncoder(drop=&#x27;first&#x27;,\n",
       "                                                                                 sparse=False))]),\n",
       "                                                  [&#x27;store_id&#x27;, &#x27;year&#x27;, &#x27;month&#x27;,\n",
       "                                                   &#x27;day_of_week&#x27;, &#x27;is_event&#x27;]),\n",
       "                                                 (&#x27;ord_col&#x27;,\n",
       "                                                  Pipeline(steps=[(&#x27;target_encoder&#x27;,\n",
       "                                                                   TargetEncoder())]),\n",
       "                                                  [&#x27;item_id&#x27;,\n",
       "                                                   &#x27;day_of_month&#x27;])])),\n",
       "                (&#x27;sgd&#x27;, SGDRegressor(random_state=42))])</pre></div></div></div><div class=\"sk-serial\"><div class=\"sk-item sk-dashed-wrapped\"><div class=\"sk-label-container\"><div class=\"sk-label sk-toggleable\"><input class=\"sk-toggleable__control sk-hidden--visually\" id=\"sk-estimator-id-2\" type=\"checkbox\" ><label for=\"sk-estimator-id-2\" class=\"sk-toggleable__label sk-toggleable__label-arrow\">preprocessor: ColumnTransformer</label><div class=\"sk-toggleable__content\"><pre>ColumnTransformer(transformers=[(&#x27;cat_cols&#x27;,\n",
       "                                 Pipeline(steps=[(&#x27;one_hot_encoder&#x27;,\n",
       "                                                  OneHotEncoder(drop=&#x27;first&#x27;,\n",
       "                                                                sparse=False))]),\n",
       "                                 [&#x27;store_id&#x27;, &#x27;year&#x27;, &#x27;month&#x27;, &#x27;day_of_week&#x27;,\n",
       "                                  &#x27;is_event&#x27;]),\n",
       "                                (&#x27;ord_col&#x27;,\n",
       "                                 Pipeline(steps=[(&#x27;target_encoder&#x27;,\n",
       "                                                  TargetEncoder())]),\n",
       "                                 [&#x27;item_id&#x27;, &#x27;day_of_month&#x27;])])</pre></div></div></div><div class=\"sk-parallel\"><div class=\"sk-parallel-item\"><div class=\"sk-item\"><div class=\"sk-label-container\"><div class=\"sk-label sk-toggleable\"><input class=\"sk-toggleable__control sk-hidden--visually\" id=\"sk-estimator-id-3\" type=\"checkbox\" ><label for=\"sk-estimator-id-3\" class=\"sk-toggleable__label sk-toggleable__label-arrow\">cat_cols</label><div class=\"sk-toggleable__content\"><pre>[&#x27;store_id&#x27;, &#x27;year&#x27;, &#x27;month&#x27;, &#x27;day_of_week&#x27;, &#x27;is_event&#x27;]</pre></div></div></div><div class=\"sk-serial\"><div class=\"sk-item\"><div class=\"sk-serial\"><div class=\"sk-item\"><div class=\"sk-estimator sk-toggleable\"><input class=\"sk-toggleable__control sk-hidden--visually\" id=\"sk-estimator-id-4\" type=\"checkbox\" ><label for=\"sk-estimator-id-4\" class=\"sk-toggleable__label sk-toggleable__label-arrow\">OneHotEncoder</label><div class=\"sk-toggleable__content\"><pre>OneHotEncoder(drop=&#x27;first&#x27;, sparse=False)</pre></div></div></div></div></div></div></div></div><div class=\"sk-parallel-item\"><div class=\"sk-item\"><div class=\"sk-label-container\"><div class=\"sk-label sk-toggleable\"><input class=\"sk-toggleable__control sk-hidden--visually\" id=\"sk-estimator-id-5\" type=\"checkbox\" ><label for=\"sk-estimator-id-5\" class=\"sk-toggleable__label sk-toggleable__label-arrow\">ord_col</label><div class=\"sk-toggleable__content\"><pre>[&#x27;item_id&#x27;, &#x27;day_of_month&#x27;]</pre></div></div></div><div class=\"sk-serial\"><div class=\"sk-item\"><div class=\"sk-serial\"><div class=\"sk-item\"><div class=\"sk-estimator sk-toggleable\"><input class=\"sk-toggleable__control sk-hidden--visually\" id=\"sk-estimator-id-6\" type=\"checkbox\" ><label for=\"sk-estimator-id-6\" class=\"sk-toggleable__label sk-toggleable__label-arrow\">TargetEncoder</label><div class=\"sk-toggleable__content\"><pre>TargetEncoder()</pre></div></div></div></div></div></div></div></div></div></div><div class=\"sk-item\"><div class=\"sk-estimator sk-toggleable\"><input class=\"sk-toggleable__control sk-hidden--visually\" id=\"sk-estimator-id-7\" type=\"checkbox\" ><label for=\"sk-estimator-id-7\" class=\"sk-toggleable__label sk-toggleable__label-arrow\">SGDRegressor</label><div class=\"sk-toggleable__content\"><pre>SGDRegressor(random_state=42)</pre></div></div></div></div></div></div></div>"
      ],
      "text/plain": [
       "Pipeline(steps=[('preprocessor',\n",
       "                 ColumnTransformer(transformers=[('cat_cols',\n",
       "                                                  Pipeline(steps=[('one_hot_encoder',\n",
       "                                                                   OneHotEncoder(drop='first',\n",
       "                                                                                 sparse=False))]),\n",
       "                                                  ['store_id', 'year', 'month',\n",
       "                                                   'day_of_week', 'is_event']),\n",
       "                                                 ('ord_col',\n",
       "                                                  Pipeline(steps=[('target_encoder',\n",
       "                                                                   TargetEncoder())]),\n",
       "                                                  ['item_id',\n",
       "                                                   'day_of_month'])])),\n",
       "                ('sgd', SGDRegressor(random_state=42))])"
      ]
     },
     "execution_count": 62,
     "metadata": {},
     "output_type": "execute_result"
    }
   ],
   "source": [
    "sgd_pipe.fit(X_train, y_train)"
   ]
  },
  {
   "cell_type": "code",
   "execution_count": 63,
   "id": "ab1a2932",
   "metadata": {
    "tags": []
   },
   "outputs": [],
   "source": [
    "sgd_y_pred_train = sgd_pipe.predict(X_train)"
   ]
  },
  {
   "cell_type": "code",
   "execution_count": 64,
   "id": "46e961dd-db99-478e-853c-df92a087cd76",
   "metadata": {
    "tags": []
   },
   "outputs": [],
   "source": [
    "sgd_y_pred_val = sgd_pipe.predict(X_val)"
   ]
  },
  {
   "cell_type": "code",
   "execution_count": 65,
   "id": "44bbd1bb",
   "metadata": {
    "tags": []
   },
   "outputs": [],
   "source": [
    "obs = pd.DataFrame(X_train.iloc[0]).transpose()"
   ]
  },
  {
   "cell_type": "code",
   "execution_count": 66,
   "id": "815327fa",
   "metadata": {
    "tags": []
   },
   "outputs": [
    {
     "data": {
      "text/html": [
       "<div>\n",
       "<style scoped>\n",
       "    .dataframe tbody tr th:only-of-type {\n",
       "        vertical-align: middle;\n",
       "    }\n",
       "\n",
       "    .dataframe tbody tr th {\n",
       "        vertical-align: top;\n",
       "    }\n",
       "\n",
       "    .dataframe thead th {\n",
       "        text-align: right;\n",
       "    }\n",
       "</style>\n",
       "<table border=\"1\" class=\"dataframe\">\n",
       "  <thead>\n",
       "    <tr style=\"text-align: right;\">\n",
       "      <th></th>\n",
       "      <th>item_id</th>\n",
       "      <th>store_id</th>\n",
       "      <th>year</th>\n",
       "      <th>month</th>\n",
       "      <th>day_of_month</th>\n",
       "      <th>day_of_week</th>\n",
       "      <th>is_event</th>\n",
       "    </tr>\n",
       "  </thead>\n",
       "  <tbody>\n",
       "    <tr>\n",
       "      <th>2614875</th>\n",
       "      <td>HOBBIES_1_154</td>\n",
       "      <td>CA_4</td>\n",
       "      <td>2014</td>\n",
       "      <td>5</td>\n",
       "      <td>20</td>\n",
       "      <td>Tuesday</td>\n",
       "      <td>0</td>\n",
       "    </tr>\n",
       "  </tbody>\n",
       "</table>\n",
       "</div>"
      ],
      "text/plain": [
       "               item_id store_id  year month day_of_month day_of_week is_event\n",
       "2614875  HOBBIES_1_154     CA_4  2014     5           20     Tuesday        0"
      ]
     },
     "execution_count": 66,
     "metadata": {},
     "output_type": "execute_result"
    }
   ],
   "source": [
    "pd.DataFrame(X_train.iloc[0]).transpose()"
   ]
  },
  {
   "cell_type": "code",
   "execution_count": 67,
   "id": "4b550904",
   "metadata": {
    "tags": []
   },
   "outputs": [
    {
     "data": {
      "text/plain": [
       "array([0.89184582])"
      ]
     },
     "execution_count": 67,
     "metadata": {},
     "output_type": "execute_result"
    }
   ],
   "source": [
    "sgd_pipe.predict(obs)"
   ]
  },
  {
   "cell_type": "code",
   "execution_count": 68,
   "id": "62e9a2ed",
   "metadata": {
    "tags": []
   },
   "outputs": [],
   "source": [
    "# Evaluate the model\n",
    "mse = mean_squared_error(y_test, sgd_y_pred_val)\n",
    "rmse = np.sqrt(mean_squared_error(y_test, sgd_y_pred_val))\n",
    "r2 = r2_score(y_test, sgd_y_pred_val)"
   ]
  },
  {
   "cell_type": "code",
   "execution_count": 69,
   "id": "1bf1c5aa",
   "metadata": {
    "tags": []
   },
   "outputs": [
    {
     "name": "stdout",
     "output_type": "stream",
     "text": [
      "SGD Regression - Root Mean Squared Error: 10.92747522526463\n",
      "SGD Regression - Mean Squared Error: 119.40971479877227\n",
      "SGD Regression - R-squared: 0.4142639658573716\n"
     ]
    }
   ],
   "source": [
    "print(f\"SGD Regression - Root Mean Squared Error: {rmse}\")\n",
    "print(f\"SGD Regression - Mean Squared Error: {mse}\")\n",
    "print(f\"SGD Regression - R-squared: {r2}\")"
   ]
  },
  {
   "cell_type": "code",
   "execution_count": 70,
   "id": "4fb0bf76",
   "metadata": {},
   "outputs": [
    {
     "data": {
      "image/png": "[encoded data removed]",
      "text/plain": [
       "<Figure size 800x600 with 1 Axes>"
      ]
     },
     "metadata": {},
     "output_type": "display_data"
    }
   ],
   "source": [
    "# Create a scatter plot\n",
    "plt.figure(figsize=(8, 6))\n",
    "plt.scatter(y_test, sgd_y_pred_test, c='blue', marker='o', alpha=0.5)\n",
    "plt.xlabel('Actual Values')\n",
    "plt.ylabel('Predicted Values')\n",
    "plt.title('Actual vs. Predicted Values')\n",
    "\n",
    "plt.plot([min(y_val), max(y_val)], [min(y_val), max(y_val)], color='red', linestyle='--', linewidth=2)\n",
    "\n",
    "plt.grid(True)\n",
    "plt.show()"
   ]
  },
  {
   "cell_type": "markdown",
   "id": "86ea6ed8",
   "metadata": {},
   "source": [
    "### XGBRegressor"
   ]
  },
  {
   "cell_type": "code",
   "execution_count": 71,
   "id": "e7993541",
   "metadata": {
    "tags": []
   },
   "outputs": [],
   "source": [
    "xgb_pipe = Pipeline(\n",
    "    steps=[\n",
    "        ('preprocessor', preprocessor),\n",
    "        ('xgb', XGBRegressor(random_state=42))\n",
    "    ]\n",
    ")"
   ]
  },
  {
   "cell_type": "code",
   "execution_count": 72,
   "id": "f8d170ff",
   "metadata": {
    "tags": []
   },
   "outputs": [
    {
     "data": {
      "text/html": [
       "<style>#sk-container-id-2 {color: black;background-color: white;}#sk-container-id-2 pre{padding: 0;}#sk-container-id-2 div.sk-toggleable {background-color: white;}#sk-container-id-2 label.sk-toggleable__label {cursor: pointer;display: block;width: 100%;margin-bottom: 0;padding: 0.3em;box-sizing: border-box;text-align: center;}#sk-container-id-2 label.sk-toggleable__label-arrow:before {content: \"▸\";float: left;margin-right: 0.25em;color: #696969;}#sk-container-id-2 label.sk-toggleable__label-arrow:hover:before {color: black;}#sk-container-id-2 div.sk-estimator:hover label.sk-toggleable__label-arrow:before {color: black;}#sk-container-id-2 div.sk-toggleable__content {max-height: 0;max-width: 0;overflow: hidden;text-align: left;background-color: #f0f8ff;}#sk-container-id-2 div.sk-toggleable__content pre {margin: 0.2em;color: black;border-radius: 0.25em;background-color: #f0f8ff;}#sk-container-id-2 input.sk-toggleable__control:checked~div.sk-toggleable__content {max-height: 200px;max-width: 100%;overflow: auto;}#sk-container-id-2 input.sk-toggleable__control:checked~label.sk-toggleable__label-arrow:before {content: \"▾\";}#sk-container-id-2 div.sk-estimator input.sk-toggleable__control:checked~label.sk-toggleable__label {background-color: #d4ebff;}#sk-container-id-2 div.sk-label input.sk-toggleable__control:checked~label.sk-toggleable__label {background-color: #d4ebff;}#sk-container-id-2 input.sk-hidden--visually {border: 0;clip: rect(1px 1px 1px 1px);clip: rect(1px, 1px, 1px, 1px);height: 1px;margin: -1px;overflow: hidden;padding: 0;position: absolute;width: 1px;}#sk-container-id-2 div.sk-estimator {font-family: monospace;background-color: #f0f8ff;border: 1px dotted black;border-radius: 0.25em;box-sizing: border-box;margin-bottom: 0.5em;}#sk-container-id-2 div.sk-estimator:hover {background-color: #d4ebff;}#sk-container-id-2 div.sk-parallel-item::after {content: \"\";width: 100%;border-bottom: 1px solid gray;flex-grow: 1;}#sk-container-id-2 div.sk-label:hover label.sk-toggleable__label {background-color: #d4ebff;}#sk-container-id-2 div.sk-serial::before {content: \"\";position: absolute;border-left: 1px solid gray;box-sizing: border-box;top: 0;bottom: 0;left: 50%;z-index: 0;}#sk-container-id-2 div.sk-serial {display: flex;flex-direction: column;align-items: center;background-color: white;padding-right: 0.2em;padding-left: 0.2em;position: relative;}#sk-container-id-2 div.sk-item {position: relative;z-index: 1;}#sk-container-id-2 div.sk-parallel {display: flex;align-items: stretch;justify-content: center;background-color: white;position: relative;}#sk-container-id-2 div.sk-item::before, #sk-container-id-2 div.sk-parallel-item::before {content: \"\";position: absolute;border-left: 1px solid gray;box-sizing: border-box;top: 0;bottom: 0;left: 50%;z-index: -1;}#sk-container-id-2 div.sk-parallel-item {display: flex;flex-direction: column;z-index: 1;position: relative;background-color: white;}#sk-container-id-2 div.sk-parallel-item:first-child::after {align-self: flex-end;width: 50%;}#sk-container-id-2 div.sk-parallel-item:last-child::after {align-self: flex-start;width: 50%;}#sk-container-id-2 div.sk-parallel-item:only-child::after {width: 0;}#sk-container-id-2 div.sk-dashed-wrapped {border: 1px dashed gray;margin: 0 0.4em 0.5em 0.4em;box-sizing: border-box;padding-bottom: 0.4em;background-color: white;}#sk-container-id-2 div.sk-label label {font-family: monospace;font-weight: bold;display: inline-block;line-height: 1.2em;}#sk-container-id-2 div.sk-label-container {text-align: center;}#sk-container-id-2 div.sk-container {/* jupyter's `normalize.less` sets `[hidden] { display: none; }` but bootstrap.min.css set `[hidden] { display: none !important; }` so we also need the `!important` here to be able to override the default hidden behavior on the sphinx rendered scikit-learn.org. See: https://github.com/scikit-learn/scikit-learn/issues/21755 */display: inline-block !important;position: relative;}#sk-container-id-2 div.sk-text-repr-fallback {display: none;}</style><div id=\"sk-container-id-2\" class=\"sk-top-container\"><div class=\"sk-text-repr-fallback\"><pre>Pipeline(steps=[(&#x27;preprocessor&#x27;,\n",
       "                 ColumnTransformer(transformers=[(&#x27;cat_cols&#x27;,\n",
       "                                                  Pipeline(steps=[(&#x27;one_hot_encoder&#x27;,\n",
       "                                                                   OneHotEncoder(drop=&#x27;first&#x27;,\n",
       "                                                                                 sparse=False))]),\n",
       "                                                  [&#x27;store_id&#x27;, &#x27;year&#x27;, &#x27;month&#x27;,\n",
       "                                                   &#x27;day_of_week&#x27;, &#x27;is_event&#x27;]),\n",
       "                                                 (&#x27;ord_col&#x27;,\n",
       "                                                  Pipeline(steps=[(&#x27;target_encoder&#x27;,\n",
       "                                                                   TargetEncoder())]),\n",
       "                                                  [&#x27;item_id&#x27;,\n",
       "                                                   &#x27;day_of_month&#x27;])])),\n",
       "                (&#x27;xgb&#x27;,\n",
       "                 XGBRegressor(base_score=None, booster=No...\n",
       "                              feature_types=None, gamma=None, grow_policy=None,\n",
       "                              importance_type=None,\n",
       "                              interaction_constraints=None, learning_rate=None,\n",
       "                              max_bin=None, max_cat_threshold=None,\n",
       "                              max_cat_to_onehot=None, max_delta_step=None,\n",
       "                              max_depth=None, max_leaves=None,\n",
       "                              min_child_weight=None, missing=nan,\n",
       "                              monotone_constraints=None, multi_strategy=None,\n",
       "                              n_estimators=None, n_jobs=None,\n",
       "                              num_parallel_tree=None, random_state=42, ...))])</pre><b>In a Jupyter environment, please rerun this cell to show the HTML representation or trust the notebook. <br />On GitHub, the HTML representation is unable to render, please try loading this page with nbviewer.org.</b></div><div class=\"sk-container\" hidden><div class=\"sk-item sk-dashed-wrapped\"><div class=\"sk-label-container\"><div class=\"sk-label sk-toggleable\"><input class=\"sk-toggleable__control sk-hidden--visually\" id=\"sk-estimator-id-8\" type=\"checkbox\" ><label for=\"sk-estimator-id-8\" class=\"sk-toggleable__label sk-toggleable__label-arrow\">Pipeline</label><div class=\"sk-toggleable__content\"><pre>Pipeline(steps=[(&#x27;preprocessor&#x27;,\n",
       "                 ColumnTransformer(transformers=[(&#x27;cat_cols&#x27;,\n",
       "                                                  Pipeline(steps=[(&#x27;one_hot_encoder&#x27;,\n",
       "                                                                   OneHotEncoder(drop=&#x27;first&#x27;,\n",
       "                                                                                 sparse=False))]),\n",
       "                                                  [&#x27;store_id&#x27;, &#x27;year&#x27;, &#x27;month&#x27;,\n",
       "                                                   &#x27;day_of_week&#x27;, &#x27;is_event&#x27;]),\n",
       "                                                 (&#x27;ord_col&#x27;,\n",
       "                                                  Pipeline(steps=[(&#x27;target_encoder&#x27;,\n",
       "                                                                   TargetEncoder())]),\n",
       "                                                  [&#x27;item_id&#x27;,\n",
       "                                                   &#x27;day_of_month&#x27;])])),\n",
       "                (&#x27;xgb&#x27;,\n",
       "                 XGBRegressor(base_score=None, booster=No...\n",
       "                              feature_types=None, gamma=None, grow_policy=None,\n",
       "                              importance_type=None,\n",
       "                              interaction_constraints=None, learning_rate=None,\n",
       "                              max_bin=None, max_cat_threshold=None,\n",
       "                              max_cat_to_onehot=None, max_delta_step=None,\n",
       "                              max_depth=None, max_leaves=None,\n",
       "                              min_child_weight=None, missing=nan,\n",
       "                              monotone_constraints=None, multi_strategy=None,\n",
       "                              n_estimators=None, n_jobs=None,\n",
       "                              num_parallel_tree=None, random_state=42, ...))])</pre></div></div></div><div class=\"sk-serial\"><div class=\"sk-item sk-dashed-wrapped\"><div class=\"sk-label-container\"><div class=\"sk-label sk-toggleable\"><input class=\"sk-toggleable__control sk-hidden--visually\" id=\"sk-estimator-id-9\" type=\"checkbox\" ><label for=\"sk-estimator-id-9\" class=\"sk-toggleable__label sk-toggleable__label-arrow\">preprocessor: ColumnTransformer</label><div class=\"sk-toggleable__content\"><pre>ColumnTransformer(transformers=[(&#x27;cat_cols&#x27;,\n",
       "                                 Pipeline(steps=[(&#x27;one_hot_encoder&#x27;,\n",
       "                                                  OneHotEncoder(drop=&#x27;first&#x27;,\n",
       "                                                                sparse=False))]),\n",
       "                                 [&#x27;store_id&#x27;, &#x27;year&#x27;, &#x27;month&#x27;, &#x27;day_of_week&#x27;,\n",
       "                                  &#x27;is_event&#x27;]),\n",
       "                                (&#x27;ord_col&#x27;,\n",
       "                                 Pipeline(steps=[(&#x27;target_encoder&#x27;,\n",
       "                                                  TargetEncoder())]),\n",
       "                                 [&#x27;item_id&#x27;, &#x27;day_of_month&#x27;])])</pre></div></div></div><div class=\"sk-parallel\"><div class=\"sk-parallel-item\"><div class=\"sk-item\"><div class=\"sk-label-container\"><div class=\"sk-label sk-toggleable\"><input class=\"sk-toggleable__control sk-hidden--visually\" id=\"sk-estimator-id-10\" type=\"checkbox\" ><label for=\"sk-estimator-id-10\" class=\"sk-toggleable__label sk-toggleable__label-arrow\">cat_cols</label><div class=\"sk-toggleable__content\"><pre>[&#x27;store_id&#x27;, &#x27;year&#x27;, &#x27;month&#x27;, &#x27;day_of_week&#x27;, &#x27;is_event&#x27;]</pre></div></div></div><div class=\"sk-serial\"><div class=\"sk-item\"><div class=\"sk-serial\"><div class=\"sk-item\"><div class=\"sk-estimator sk-toggleable\"><input class=\"sk-toggleable__control sk-hidden--visually\" id=\"sk-estimator-id-11\" type=\"checkbox\" ><label for=\"sk-estimator-id-11\" class=\"sk-toggleable__label sk-toggleable__label-arrow\">OneHotEncoder</label><div class=\"sk-toggleable__content\"><pre>OneHotEncoder(drop=&#x27;first&#x27;, sparse=False)</pre></div></div></div></div></div></div></div></div><div class=\"sk-parallel-item\"><div class=\"sk-item\"><div class=\"sk-label-container\"><div class=\"sk-label sk-toggleable\"><input class=\"sk-toggleable__control sk-hidden--visually\" id=\"sk-estimator-id-12\" type=\"checkbox\" ><label for=\"sk-estimator-id-12\" class=\"sk-toggleable__label sk-toggleable__label-arrow\">ord_col</label><div class=\"sk-toggleable__content\"><pre>[&#x27;item_id&#x27;, &#x27;day_of_month&#x27;]</pre></div></div></div><div class=\"sk-serial\"><div class=\"sk-item\"><div class=\"sk-serial\"><div class=\"sk-item\"><div class=\"sk-estimator sk-toggleable\"><input class=\"sk-toggleable__control sk-hidden--visually\" id=\"sk-estimator-id-13\" type=\"checkbox\" ><label for=\"sk-estimator-id-13\" class=\"sk-toggleable__label sk-toggleable__label-arrow\">TargetEncoder</label><div class=\"sk-toggleable__content\"><pre>TargetEncoder()</pre></div></div></div></div></div></div></div></div></div></div><div class=\"sk-item\"><div class=\"sk-estimator sk-toggleable\"><input class=\"sk-toggleable__control sk-hidden--visually\" id=\"sk-estimator-id-14\" type=\"checkbox\" ><label for=\"sk-estimator-id-14\" class=\"sk-toggleable__label sk-toggleable__label-arrow\">XGBRegressor</label><div class=\"sk-toggleable__content\"><pre>XGBRegressor(base_score=None, booster=None, callbacks=None,\n",
       "             colsample_bylevel=None, colsample_bynode=None,\n",
       "             colsample_bytree=None, device=None, early_stopping_rounds=None,\n",
       "             enable_categorical=False, eval_metric=None, feature_types=None,\n",
       "             gamma=None, grow_policy=None, importance_type=None,\n",
       "             interaction_constraints=None, learning_rate=None, max_bin=None,\n",
       "             max_cat_threshold=None, max_cat_to_onehot=None,\n",
       "             max_delta_step=None, max_depth=None, max_leaves=None,\n",
       "             min_child_weight=None, missing=nan, monotone_constraints=None,\n",
       "             multi_strategy=None, n_estimators=None, n_jobs=None,\n",
       "             num_parallel_tree=None, random_state=42, ...)</pre></div></div></div></div></div></div></div>"
      ],
      "text/plain": [
       "Pipeline(steps=[('preprocessor',\n",
       "                 ColumnTransformer(transformers=[('cat_cols',\n",
       "                                                  Pipeline(steps=[('one_hot_encoder',\n",
       "                                                                   OneHotEncoder(drop='first',\n",
       "                                                                                 sparse=False))]),\n",
       "                                                  ['store_id', 'year', 'month',\n",
       "                                                   'day_of_week', 'is_event']),\n",
       "                                                 ('ord_col',\n",
       "                                                  Pipeline(steps=[('target_encoder',\n",
       "                                                                   TargetEncoder())]),\n",
       "                                                  ['item_id',\n",
       "                                                   'day_of_month'])])),\n",
       "                ('xgb',\n",
       "                 XGBRegressor(base_score=None, booster=No...\n",
       "                              feature_types=None, gamma=None, grow_policy=None,\n",
       "                              importance_type=None,\n",
       "                              interaction_constraints=None, learning_rate=None,\n",
       "                              max_bin=None, max_cat_threshold=None,\n",
       "                              max_cat_to_onehot=None, max_delta_step=None,\n",
       "                              max_depth=None, max_leaves=None,\n",
       "                              min_child_weight=None, missing=nan,\n",
       "                              monotone_constraints=None, multi_strategy=None,\n",
       "                              n_estimators=None, n_jobs=None,\n",
       "                              num_parallel_tree=None, random_state=42, ...))])"
      ]
     },
     "execution_count": 72,
     "metadata": {},
     "output_type": "execute_result"
    }
   ],
   "source": [
    "xgb_pipe.fit(X_train, y_train)"
   ]
  },
  {
   "cell_type": "code",
   "execution_count": 73,
   "id": "a0dd1f74",
   "metadata": {
    "tags": []
   },
   "outputs": [
    {
     "data": {
      "text/plain": [
       "array([ 4.2829423,  4.1090226,  6.0013847, ..., 11.27383  ,  2.7112074,\n",
       "        2.6512904], dtype=float32)"
      ]
     },
     "execution_count": 73,
     "metadata": {},
     "output_type": "execute_result"
    }
   ],
   "source": [
    "xgb_pipe.predict(X_train)"
   ]
  },
  {
   "cell_type": "code",
   "execution_count": 74,
   "id": "b6960beb",
   "metadata": {
    "tags": []
   },
   "outputs": [],
   "source": [
    "xgb_y_pred_val = xgb_pipe.predict(X_val)"
   ]
  },
  {
   "cell_type": "code",
   "execution_count": 75,
   "id": "a68f3770",
   "metadata": {
    "tags": []
   },
   "outputs": [],
   "source": [
    "# Evaluate the model\n",
    "mse = mean_squared_error(y_test, xgb_y_pred_test)\n",
    "rmse = np.sqrt(mean_squared_error(y_val, xgb_y_pred_val))\n",
    "r2 = r2_score(y_test, xgb_y_pred_val)"
   ]
  },
  {
   "cell_type": "code",
   "execution_count": 76,
   "id": "404452ea",
   "metadata": {
    "tags": []
   },
   "outputs": [
    {
     "name": "stdout",
     "output_type": "stream",
     "text": [
      "XG Boost Regression - Root Mean Squared Error: 9.869239655815312\n",
      "XG Boost Regression - Mean Squared Error: 97.40189138391753\n",
      "XG Boost Regression - R-squared: 0.5222181237653079\n"
     ]
    }
   ],
   "source": [
    "print(f\"XG Boost Regression - Root Mean Squared Error: {rmse}\")\n",
    "print(f\"XG Boost Regression - Mean Squared Error: {mse}\")\n",
    "print(f\"XG Boost Regression - R-squared: {r2}\")"
   ]
  },
  {
   "cell_type": "code",
   "execution_count": 77,
   "id": "e5451ced-8cce-49a9-a1a4-a341a9cf7849",
   "metadata": {},
   "outputs": [
    {
     "data": {
      "image/png": "[encoded data removed]",
      "text/plain": [
       "<Figure size 800x600 with 1 Axes>"
      ]
     },
     "metadata": {},
     "output_type": "display_data"
    }
   ],
   "source": [
    "# Create a scatter plot\n",
    "plt.figure(figsize=(8, 6))\n",
    "plt.scatter(y_test, xgb_y_pred_test, c='blue', marker='o', alpha=0.5)\n",
    "plt.xlabel('Actual Values')\n",
    "plt.ylabel('Predicted Values')\n",
    "plt.title('Actual vs. Predicted Values')\n",
    "\n",
    "plt.plot([min(y_val), max(y_val)], [min(y_val), max(y_val)], color='red', linestyle='--', linewidth=2)\n",
    "\n",
    "plt.grid(True)\n",
    "plt.show()"
   ]
  },
  {
   "cell_type": "code",
   "execution_count": null,
   "id": "c0d7bdb5-fcfe-49c0-bbc1-201425af55e7",
   "metadata": {},
   "outputs": [],
   "source": []
  },
  {
   "cell_type": "markdown",
   "id": "4b4b658e",
   "metadata": {},
   "source": [
    "### Random Forest Regressor"
   ]
  },
  {
   "cell_type": "code",
   "execution_count": 78,
   "id": "81e64422",
   "metadata": {
    "tags": []
   },
   "outputs": [],
   "source": [
    "rf_pipe = Pipeline(\n",
    "    steps=[\n",
    "        ('preprocessor', preprocessor),\n",
    "        ('rf', RandomForestRegressor(random_state=42))\n",
    "    ]\n",
    ")"
   ]
  },
  {
   "cell_type": "code",
   "execution_count": 79,
   "id": "a71dc6f8",
   "metadata": {
    "tags": []
   },
   "outputs": [],
   "source": [
    "rf_predictive_model = rf_pipe.fit(X_train, y_train)"
   ]
  },
  {
   "cell_type": "code",
   "execution_count": 88,
   "id": "72c47aa8-0b99-45af-8d18-086875d93594",
   "metadata": {},
   "outputs": [
    {
     "data": {
      "text/plain": [
       "['../../models/predictive/random_forest.joblib']"
      ]
     },
     "execution_count": 88,
     "metadata": {},
     "output_type": "execute_result"
    }
   ],
   "source": [
    "dump(rf_predictive_model, '../../models/predictive/random_forest.joblib')"
   ]
  },
  {
   "cell_type": "code",
   "execution_count": 81,
   "id": "c5db19d4",
   "metadata": {
    "tags": []
   },
   "outputs": [],
   "source": [
    "rf_y_pred_train = rf_pipe.predict(X_train)"
   ]
  },
  {
   "cell_type": "code",
   "execution_count": 89,
   "id": "2f5b07f4",
   "metadata": {
    "tags": []
   },
   "outputs": [
    {
     "ename": "NameError",
     "evalue": "name 'X_val' is not defined",
     "output_type": "error",
     "traceback": [
      "\u001b[0;31m---------------------------------------------------------------------------\u001b[0m",
      "\u001b[0;31mNameError\u001b[0m                                 Traceback (most recent call last)",
      "Cell \u001b[0;32mIn[89], line 1\u001b[0m\n\u001b[0;32m----> 1\u001b[0m rf_y_pred_val \u001b[38;5;241m=\u001b[39m rf_pipe\u001b[38;5;241m.\u001b[39mpredict(\u001b[43mX_val\u001b[49m)\n",
      "\u001b[0;31mNameError\u001b[0m: name 'X_val' is not defined"
     ]
    }
   ],
   "source": [
    "rf_y_pred_val = rf_pipe.predict(X_val)"
   ]
  },
  {
   "cell_type": "code",
   "execution_count": 83,
   "id": "4c14b9a0-71c9-45a2-b32b-b2797afa1d95",
   "metadata": {
    "tags": []
   },
   "outputs": [
    {
     "data": {
      "text/plain": [
       "array([ 8.5292,  9.7066, 10.8657, ...,  4.647 ,  4.0471,  3.9746])"
      ]
     },
     "execution_count": 83,
     "metadata": {},
     "output_type": "execute_result"
    }
   ],
   "source": [
    "rf_y_pred_val"
   ]
  },
  {
   "cell_type": "code",
   "execution_count": 84,
   "id": "f6556339",
   "metadata": {
    "tags": []
   },
   "outputs": [],
   "source": [
    "# Evaluate the model\n",
    "train_rmse = np.sqrt(mean_squared_error(y_test, rf_y_pred_val))\n",
    "val_rmse = np.sqrt(mean_squared_error(y_test, rf_y_pred_val))\n",
    "r2 = r2_score(y_test, rf_y_pred_val)"
   ]
  },
  {
   "cell_type": "code",
   "execution_count": 85,
   "id": "b243a674",
   "metadata": {
    "tags": []
   },
   "outputs": [
    {
     "name": "stdout",
     "output_type": "stream",
     "text": [
      "Random Forest Regression - Root Mean Squared Error: 8.666509186836336\n",
      "Random Forest Regression - Mean Squared Error: 75.1083814855186\n",
      "Random Forest Regression - R-squared: 0.6315736489586556\n"
     ]
    }
   ],
   "source": [
    "print(f\"Random Forest Regression - Root Mean Squared Error - Train: {train_rmse}\")\n",
    "print(f\"Random Forest Regression - Root Mean Squared Error - Validation: {val_rmse}\")\n",
    "print(f\"Random Forest Regression - R-squared: {r2}\")"
   ]
  },
  {
   "cell_type": "code",
   "execution_count": 86,
   "id": "0f146664",
   "metadata": {
    "tags": []
   },
   "outputs": [
    {
     "data": {
      "image/png": "[encoded data removed]",
      "text/plain": [
       "<Figure size 800x600 with 1 Axes>"
      ]
     },
     "metadata": {},
     "output_type": "display_data"
    }
   ],
   "source": [
    "# Create a scatter plot\n",
    "plt.figure(figsize=(8, 6))\n",
    "plt.scatter(y_test, rf_y_pred_test, c='blue', marker='o', alpha=0.5)\n",
    "plt.xlabel('Actual Values')\n",
    "plt.ylabel('Predicted Values')\n",
    "plt.title('Actual vs. Predicted Values')\n",
    "\n",
    "plt.plot([min(y_val), max(y_val)], [min(y_val), max(y_val)], color='red', linestyle='--', linewidth=2)\n",
    "\n",
    "plt.grid(True)\n",
    "plt.show()"
   ]
  },
  {
   "cell_type": "code",
   "execution_count": null,
   "id": "7dde2e65-f90e-47ea-8b24-6fb592608d5e",
   "metadata": {},
   "outputs": [],
   "source": []
  },
  {
   "cell_type": "code",
   "execution_count": null,
   "id": "8cdc1ff1-6867-45f6-b41d-2e63fe311942",
   "metadata": {},
   "outputs": [],
   "source": []
  },
  {
   "cell_type": "code",
   "execution_count": null,
   "id": "e4f26f9e-ebd2-4152-961a-5de99e6465e6",
   "metadata": {},
   "outputs": [],
   "source": []
  },
  {
   "cell_type": "code",
   "execution_count": null,
   "id": "8159ebc2-8a62-448d-a956-08ca4cd6f242",
   "metadata": {},
   "outputs": [],
   "source": []
  }
 ],
 "metadata": {
  "kernelspec": {
   "display_name": "Python 3 (ipykernel)",
   "language": "python",
   "name": "python3"
  },
  "language_info": {
   "codemirror_mode": {
    "name": "ipython",
    "version": 3
   },
   "file_extension": ".py",
   "mimetype": "text/x-python",
   "name": "python",
   "nbconvert_exporter": "python",
   "pygments_lexer": "ipython3",
   "version": "3.9.13"
  }
 },
 "nbformat": 4,
 "nbformat_minor": 5
}
